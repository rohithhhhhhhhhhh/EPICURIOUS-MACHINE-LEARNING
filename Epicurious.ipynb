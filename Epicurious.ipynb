{
  "nbformat": 4,
  "nbformat_minor": 0,
  "metadata": {
    "colab": {
      "provenance": [],
      "include_colab_link": true
    },
    "kernelspec": {
      "name": "python3",
      "display_name": "Python 3"
    },
    "language_info": {
      "name": "python"
    }
  },
  "cells": [
    {
      "cell_type": "markdown",
      "metadata": {
        "id": "view-in-github",
        "colab_type": "text"
      },
      "source": [
        "<a href=\"https://colab.research.google.com/github/rohithhhhhhhhhhh/EPICURIOUS-MACHINE-LEARNING/blob/main/Epicurious.ipynb\" target=\"_parent\"><img src=\"https://colab.research.google.com/assets/colab-badge.svg\" alt=\"Open In Colab\"/></a>"
      ]
    },
    {
      "cell_type": "code",
      "execution_count": null,
      "metadata": {
        "id": "ERHXHNhuNFM5"
      },
      "outputs": [],
      "source": [
        "import numpy as np\n",
        "import pandas as pd\n",
        "import matplotlib.pyplot as plt\n",
        "import seaborn as sb\n",
        "import math\n",
        "\n",
        "import statsmodels.api as sm\n",
        "import statsmodels.formula.api as smf\n",
        "\n",
        "from sklearn.preprocessing import scale\n",
        "from sklearn.model_selection import train_test_split, GridSearchCV, cross_val_score\n",
        "from sklearn.metrics import confusion_matrix, accuracy_score, classification_report\n",
        "from sklearn.metrics import roc_auc_score,roc_curve\n",
        "from sklearn.neighbors import KNeighborsClassifier\n",
        "from sklearn.discriminant_analysis import LinearDiscriminantAnalysis\n",
        "from sklearn.linear_model import LogisticRegression\n",
        "from sklearn.svm import SVC\n",
        "from sklearn.naive_bayes import GaussianNB\n",
        "from sklearn import tree\n",
        "from sklearn.ensemble import RandomForestClassifier\n",
        "from sklearn.ensemble import AdaBoostClassifier\n",
        "\n",
        "import warnings\n",
        "warnings.filterwarnings(\"ignore\", category=DeprecationWarning)\n",
        "\n",
        "from warnings import filterwarnings\n",
        "filterwarnings('ignore')\n"
      ]
    },
    {
      "cell_type": "code",
      "source": [
        "data=pd.read_csv(\"epi_r.csv\")"
      ],
      "metadata": {
        "id": "y_gVFv1DODqF"
      },
      "execution_count": null,
      "outputs": []
    },
    {
      "cell_type": "code",
      "source": [
        "data.head()"
      ],
      "metadata": {
        "colab": {
          "base_uri": "https://localhost:8080/",
          "height": 620
        },
        "id": "LHzq-7p7ORt4",
        "outputId": "d000188a-3177-43ed-b67c-453b67875b11"
      },
      "execution_count": null,
      "outputs": [
        {
          "output_type": "execute_result",
          "data": {
            "text/plain": [
              "                                         title  rating  calories  protein  \\\n",
              "0              Lentil, Apple, and Turkey Wrap    2.500     426.0     30.0   \n",
              "1  Boudin Blanc Terrine with Red Onion Confit    4.375     403.0     18.0   \n",
              "2                Potato and Fennel Soup Hodge    3.750     165.0      6.0   \n",
              "3             Mahi-Mahi in Tomato Olive Sauce    5.000       NaN      NaN   \n",
              "4                    Spinach Noodle Casserole    3.125     547.0     20.0   \n",
              "\n",
              "    fat  sodium  #cakeweek  #wasteless  22-minute meals  3-ingredient recipes  \\\n",
              "0   7.0   559.0        0.0         0.0              0.0                   0.0   \n",
              "1  23.0  1439.0        0.0         0.0              0.0                   0.0   \n",
              "2   7.0   165.0        0.0         0.0              0.0                   0.0   \n",
              "3   NaN     NaN        0.0         0.0              0.0                   0.0   \n",
              "4  32.0   452.0        0.0         0.0              0.0                   0.0   \n",
              "\n",
              "   ...  yellow squash  yogurt  yonkers  yuca  zucchini  cookbooks  leftovers  \\\n",
              "0  ...            0.0     0.0      0.0   0.0       0.0        0.0        0.0   \n",
              "1  ...            0.0     0.0      0.0   0.0       0.0        0.0        0.0   \n",
              "2  ...            0.0     0.0      0.0   0.0       0.0        0.0        0.0   \n",
              "3  ...            0.0     0.0      0.0   0.0       0.0        0.0        0.0   \n",
              "4  ...            0.0     0.0      0.0   0.0       0.0        0.0        0.0   \n",
              "\n",
              "   snack  snack week  turkey  \n",
              "0    0.0         0.0     1.0  \n",
              "1    0.0         0.0     0.0  \n",
              "2    0.0         0.0     0.0  \n",
              "3    0.0         0.0     0.0  \n",
              "4    0.0         0.0     0.0  \n",
              "\n",
              "[5 rows x 680 columns]"
            ],
            "text/html": [
              "\n",
              "  <div id=\"df-340d2695-83c3-4aa2-81fb-3a57bc190f0b\" class=\"colab-df-container\">\n",
              "    <div>\n",
              "<style scoped>\n",
              "    .dataframe tbody tr th:only-of-type {\n",
              "        vertical-align: middle;\n",
              "    }\n",
              "\n",
              "    .dataframe tbody tr th {\n",
              "        vertical-align: top;\n",
              "    }\n",
              "\n",
              "    .dataframe thead th {\n",
              "        text-align: right;\n",
              "    }\n",
              "</style>\n",
              "<table border=\"1\" class=\"dataframe\">\n",
              "  <thead>\n",
              "    <tr style=\"text-align: right;\">\n",
              "      <th></th>\n",
              "      <th>title</th>\n",
              "      <th>rating</th>\n",
              "      <th>calories</th>\n",
              "      <th>protein</th>\n",
              "      <th>fat</th>\n",
              "      <th>sodium</th>\n",
              "      <th>#cakeweek</th>\n",
              "      <th>#wasteless</th>\n",
              "      <th>22-minute meals</th>\n",
              "      <th>3-ingredient recipes</th>\n",
              "      <th>...</th>\n",
              "      <th>yellow squash</th>\n",
              "      <th>yogurt</th>\n",
              "      <th>yonkers</th>\n",
              "      <th>yuca</th>\n",
              "      <th>zucchini</th>\n",
              "      <th>cookbooks</th>\n",
              "      <th>leftovers</th>\n",
              "      <th>snack</th>\n",
              "      <th>snack week</th>\n",
              "      <th>turkey</th>\n",
              "    </tr>\n",
              "  </thead>\n",
              "  <tbody>\n",
              "    <tr>\n",
              "      <th>0</th>\n",
              "      <td>Lentil, Apple, and Turkey Wrap</td>\n",
              "      <td>2.500</td>\n",
              "      <td>426.0</td>\n",
              "      <td>30.0</td>\n",
              "      <td>7.0</td>\n",
              "      <td>559.0</td>\n",
              "      <td>0.0</td>\n",
              "      <td>0.0</td>\n",
              "      <td>0.0</td>\n",
              "      <td>0.0</td>\n",
              "      <td>...</td>\n",
              "      <td>0.0</td>\n",
              "      <td>0.0</td>\n",
              "      <td>0.0</td>\n",
              "      <td>0.0</td>\n",
              "      <td>0.0</td>\n",
              "      <td>0.0</td>\n",
              "      <td>0.0</td>\n",
              "      <td>0.0</td>\n",
              "      <td>0.0</td>\n",
              "      <td>1.0</td>\n",
              "    </tr>\n",
              "    <tr>\n",
              "      <th>1</th>\n",
              "      <td>Boudin Blanc Terrine with Red Onion Confit</td>\n",
              "      <td>4.375</td>\n",
              "      <td>403.0</td>\n",
              "      <td>18.0</td>\n",
              "      <td>23.0</td>\n",
              "      <td>1439.0</td>\n",
              "      <td>0.0</td>\n",
              "      <td>0.0</td>\n",
              "      <td>0.0</td>\n",
              "      <td>0.0</td>\n",
              "      <td>...</td>\n",
              "      <td>0.0</td>\n",
              "      <td>0.0</td>\n",
              "      <td>0.0</td>\n",
              "      <td>0.0</td>\n",
              "      <td>0.0</td>\n",
              "      <td>0.0</td>\n",
              "      <td>0.0</td>\n",
              "      <td>0.0</td>\n",
              "      <td>0.0</td>\n",
              "      <td>0.0</td>\n",
              "    </tr>\n",
              "    <tr>\n",
              "      <th>2</th>\n",
              "      <td>Potato and Fennel Soup Hodge</td>\n",
              "      <td>3.750</td>\n",
              "      <td>165.0</td>\n",
              "      <td>6.0</td>\n",
              "      <td>7.0</td>\n",
              "      <td>165.0</td>\n",
              "      <td>0.0</td>\n",
              "      <td>0.0</td>\n",
              "      <td>0.0</td>\n",
              "      <td>0.0</td>\n",
              "      <td>...</td>\n",
              "      <td>0.0</td>\n",
              "      <td>0.0</td>\n",
              "      <td>0.0</td>\n",
              "      <td>0.0</td>\n",
              "      <td>0.0</td>\n",
              "      <td>0.0</td>\n",
              "      <td>0.0</td>\n",
              "      <td>0.0</td>\n",
              "      <td>0.0</td>\n",
              "      <td>0.0</td>\n",
              "    </tr>\n",
              "    <tr>\n",
              "      <th>3</th>\n",
              "      <td>Mahi-Mahi in Tomato Olive Sauce</td>\n",
              "      <td>5.000</td>\n",
              "      <td>NaN</td>\n",
              "      <td>NaN</td>\n",
              "      <td>NaN</td>\n",
              "      <td>NaN</td>\n",
              "      <td>0.0</td>\n",
              "      <td>0.0</td>\n",
              "      <td>0.0</td>\n",
              "      <td>0.0</td>\n",
              "      <td>...</td>\n",
              "      <td>0.0</td>\n",
              "      <td>0.0</td>\n",
              "      <td>0.0</td>\n",
              "      <td>0.0</td>\n",
              "      <td>0.0</td>\n",
              "      <td>0.0</td>\n",
              "      <td>0.0</td>\n",
              "      <td>0.0</td>\n",
              "      <td>0.0</td>\n",
              "      <td>0.0</td>\n",
              "    </tr>\n",
              "    <tr>\n",
              "      <th>4</th>\n",
              "      <td>Spinach Noodle Casserole</td>\n",
              "      <td>3.125</td>\n",
              "      <td>547.0</td>\n",
              "      <td>20.0</td>\n",
              "      <td>32.0</td>\n",
              "      <td>452.0</td>\n",
              "      <td>0.0</td>\n",
              "      <td>0.0</td>\n",
              "      <td>0.0</td>\n",
              "      <td>0.0</td>\n",
              "      <td>...</td>\n",
              "      <td>0.0</td>\n",
              "      <td>0.0</td>\n",
              "      <td>0.0</td>\n",
              "      <td>0.0</td>\n",
              "      <td>0.0</td>\n",
              "      <td>0.0</td>\n",
              "      <td>0.0</td>\n",
              "      <td>0.0</td>\n",
              "      <td>0.0</td>\n",
              "      <td>0.0</td>\n",
              "    </tr>\n",
              "  </tbody>\n",
              "</table>\n",
              "<p>5 rows × 680 columns</p>\n",
              "</div>\n",
              "    <div class=\"colab-df-buttons\">\n",
              "\n",
              "  <div class=\"colab-df-container\">\n",
              "    <button class=\"colab-df-convert\" onclick=\"convertToInteractive('df-340d2695-83c3-4aa2-81fb-3a57bc190f0b')\"\n",
              "            title=\"Convert this dataframe to an interactive table.\"\n",
              "            style=\"display:none;\">\n",
              "\n",
              "  <svg xmlns=\"http://www.w3.org/2000/svg\" height=\"24px\" viewBox=\"0 -960 960 960\">\n",
              "    <path d=\"M120-120v-720h720v720H120Zm60-500h600v-160H180v160Zm220 220h160v-160H400v160Zm0 220h160v-160H400v160ZM180-400h160v-160H180v160Zm440 0h160v-160H620v160ZM180-180h160v-160H180v160Zm440 0h160v-160H620v160Z\"/>\n",
              "  </svg>\n",
              "    </button>\n",
              "\n",
              "  <style>\n",
              "    .colab-df-container {\n",
              "      display:flex;\n",
              "      gap: 12px;\n",
              "    }\n",
              "\n",
              "    .colab-df-convert {\n",
              "      background-color: #E8F0FE;\n",
              "      border: none;\n",
              "      border-radius: 50%;\n",
              "      cursor: pointer;\n",
              "      display: none;\n",
              "      fill: #1967D2;\n",
              "      height: 32px;\n",
              "      padding: 0 0 0 0;\n",
              "      width: 32px;\n",
              "    }\n",
              "\n",
              "    .colab-df-convert:hover {\n",
              "      background-color: #E2EBFA;\n",
              "      box-shadow: 0px 1px 2px rgba(60, 64, 67, 0.3), 0px 1px 3px 1px rgba(60, 64, 67, 0.15);\n",
              "      fill: #174EA6;\n",
              "    }\n",
              "\n",
              "    .colab-df-buttons div {\n",
              "      margin-bottom: 4px;\n",
              "    }\n",
              "\n",
              "    [theme=dark] .colab-df-convert {\n",
              "      background-color: #3B4455;\n",
              "      fill: #D2E3FC;\n",
              "    }\n",
              "\n",
              "    [theme=dark] .colab-df-convert:hover {\n",
              "      background-color: #434B5C;\n",
              "      box-shadow: 0px 1px 3px 1px rgba(0, 0, 0, 0.15);\n",
              "      filter: drop-shadow(0px 1px 2px rgba(0, 0, 0, 0.3));\n",
              "      fill: #FFFFFF;\n",
              "    }\n",
              "  </style>\n",
              "\n",
              "    <script>\n",
              "      const buttonEl =\n",
              "        document.querySelector('#df-340d2695-83c3-4aa2-81fb-3a57bc190f0b button.colab-df-convert');\n",
              "      buttonEl.style.display =\n",
              "        google.colab.kernel.accessAllowed ? 'block' : 'none';\n",
              "\n",
              "      async function convertToInteractive(key) {\n",
              "        const element = document.querySelector('#df-340d2695-83c3-4aa2-81fb-3a57bc190f0b');\n",
              "        const dataTable =\n",
              "          await google.colab.kernel.invokeFunction('convertToInteractive',\n",
              "                                                    [key], {});\n",
              "        if (!dataTable) return;\n",
              "\n",
              "        const docLinkHtml = 'Like what you see? Visit the ' +\n",
              "          '<a target=\"_blank\" href=https://colab.research.google.com/notebooks/data_table.ipynb>data table notebook</a>'\n",
              "          + ' to learn more about interactive tables.';\n",
              "        element.innerHTML = '';\n",
              "        dataTable['output_type'] = 'display_data';\n",
              "        await google.colab.output.renderOutput(dataTable, element);\n",
              "        const docLink = document.createElement('div');\n",
              "        docLink.innerHTML = docLinkHtml;\n",
              "        element.appendChild(docLink);\n",
              "      }\n",
              "    </script>\n",
              "  </div>\n",
              "\n",
              "\n",
              "<div id=\"df-0a04277c-284c-49de-9d26-e98c168fdb87\">\n",
              "  <button class=\"colab-df-quickchart\" onclick=\"quickchart('df-0a04277c-284c-49de-9d26-e98c168fdb87')\"\n",
              "            title=\"Suggest charts\"\n",
              "            style=\"display:none;\">\n",
              "\n",
              "<svg xmlns=\"http://www.w3.org/2000/svg\" height=\"24px\"viewBox=\"0 0 24 24\"\n",
              "     width=\"24px\">\n",
              "    <g>\n",
              "        <path d=\"M19 3H5c-1.1 0-2 .9-2 2v14c0 1.1.9 2 2 2h14c1.1 0 2-.9 2-2V5c0-1.1-.9-2-2-2zM9 17H7v-7h2v7zm4 0h-2V7h2v10zm4 0h-2v-4h2v4z\"/>\n",
              "    </g>\n",
              "</svg>\n",
              "  </button>\n",
              "\n",
              "<style>\n",
              "  .colab-df-quickchart {\n",
              "      --bg-color: #E8F0FE;\n",
              "      --fill-color: #1967D2;\n",
              "      --hover-bg-color: #E2EBFA;\n",
              "      --hover-fill-color: #174EA6;\n",
              "      --disabled-fill-color: #AAA;\n",
              "      --disabled-bg-color: #DDD;\n",
              "  }\n",
              "\n",
              "  [theme=dark] .colab-df-quickchart {\n",
              "      --bg-color: #3B4455;\n",
              "      --fill-color: #D2E3FC;\n",
              "      --hover-bg-color: #434B5C;\n",
              "      --hover-fill-color: #FFFFFF;\n",
              "      --disabled-bg-color: #3B4455;\n",
              "      --disabled-fill-color: #666;\n",
              "  }\n",
              "\n",
              "  .colab-df-quickchart {\n",
              "    background-color: var(--bg-color);\n",
              "    border: none;\n",
              "    border-radius: 50%;\n",
              "    cursor: pointer;\n",
              "    display: none;\n",
              "    fill: var(--fill-color);\n",
              "    height: 32px;\n",
              "    padding: 0;\n",
              "    width: 32px;\n",
              "  }\n",
              "\n",
              "  .colab-df-quickchart:hover {\n",
              "    background-color: var(--hover-bg-color);\n",
              "    box-shadow: 0 1px 2px rgba(60, 64, 67, 0.3), 0 1px 3px 1px rgba(60, 64, 67, 0.15);\n",
              "    fill: var(--button-hover-fill-color);\n",
              "  }\n",
              "\n",
              "  .colab-df-quickchart-complete:disabled,\n",
              "  .colab-df-quickchart-complete:disabled:hover {\n",
              "    background-color: var(--disabled-bg-color);\n",
              "    fill: var(--disabled-fill-color);\n",
              "    box-shadow: none;\n",
              "  }\n",
              "\n",
              "  .colab-df-spinner {\n",
              "    border: 2px solid var(--fill-color);\n",
              "    border-color: transparent;\n",
              "    border-bottom-color: var(--fill-color);\n",
              "    animation:\n",
              "      spin 1s steps(1) infinite;\n",
              "  }\n",
              "\n",
              "  @keyframes spin {\n",
              "    0% {\n",
              "      border-color: transparent;\n",
              "      border-bottom-color: var(--fill-color);\n",
              "      border-left-color: var(--fill-color);\n",
              "    }\n",
              "    20% {\n",
              "      border-color: transparent;\n",
              "      border-left-color: var(--fill-color);\n",
              "      border-top-color: var(--fill-color);\n",
              "    }\n",
              "    30% {\n",
              "      border-color: transparent;\n",
              "      border-left-color: var(--fill-color);\n",
              "      border-top-color: var(--fill-color);\n",
              "      border-right-color: var(--fill-color);\n",
              "    }\n",
              "    40% {\n",
              "      border-color: transparent;\n",
              "      border-right-color: var(--fill-color);\n",
              "      border-top-color: var(--fill-color);\n",
              "    }\n",
              "    60% {\n",
              "      border-color: transparent;\n",
              "      border-right-color: var(--fill-color);\n",
              "    }\n",
              "    80% {\n",
              "      border-color: transparent;\n",
              "      border-right-color: var(--fill-color);\n",
              "      border-bottom-color: var(--fill-color);\n",
              "    }\n",
              "    90% {\n",
              "      border-color: transparent;\n",
              "      border-bottom-color: var(--fill-color);\n",
              "    }\n",
              "  }\n",
              "</style>\n",
              "\n",
              "  <script>\n",
              "    async function quickchart(key) {\n",
              "      const quickchartButtonEl =\n",
              "        document.querySelector('#' + key + ' button');\n",
              "      quickchartButtonEl.disabled = true;  // To prevent multiple clicks.\n",
              "      quickchartButtonEl.classList.add('colab-df-spinner');\n",
              "      try {\n",
              "        const charts = await google.colab.kernel.invokeFunction(\n",
              "            'suggestCharts', [key], {});\n",
              "      } catch (error) {\n",
              "        console.error('Error during call to suggestCharts:', error);\n",
              "      }\n",
              "      quickchartButtonEl.classList.remove('colab-df-spinner');\n",
              "      quickchartButtonEl.classList.add('colab-df-quickchart-complete');\n",
              "    }\n",
              "    (() => {\n",
              "      let quickchartButtonEl =\n",
              "        document.querySelector('#df-0a04277c-284c-49de-9d26-e98c168fdb87 button');\n",
              "      quickchartButtonEl.style.display =\n",
              "        google.colab.kernel.accessAllowed ? 'block' : 'none';\n",
              "    })();\n",
              "  </script>\n",
              "</div>\n",
              "\n",
              "    </div>\n",
              "  </div>\n"
            ],
            "application/vnd.google.colaboratory.intrinsic+json": {
              "type": "dataframe",
              "variable_name": "data"
            }
          },
          "metadata": {},
          "execution_count": 4
        }
      ]
    },
    {
      "cell_type": "code",
      "source": [
        "data.shape"
      ],
      "metadata": {
        "colab": {
          "base_uri": "https://localhost:8080/"
        },
        "id": "k-tQ5DZFOkB2",
        "outputId": "98a0d89e-1454-4f31-c887-c3c9463a0348"
      },
      "execution_count": null,
      "outputs": [
        {
          "output_type": "execute_result",
          "data": {
            "text/plain": [
              "(20052, 680)"
            ]
          },
          "metadata": {},
          "execution_count": 5
        }
      ]
    },
    {
      "cell_type": "code",
      "source": [
        "\n",
        "data.describe()"
      ],
      "metadata": {
        "colab": {
          "base_uri": "https://localhost:8080/",
          "height": 384
        },
        "id": "Z43nGrHwPPpM",
        "outputId": "eed0f43b-3c66-4063-efa9-d345c29da5ce"
      },
      "execution_count": null,
      "outputs": [
        {
          "output_type": "execute_result",
          "data": {
            "text/plain": [
              "             rating      calories        protein           fat        sodium  \\\n",
              "count  20052.000000  1.593500e+04   15890.000000  1.586900e+04  1.593300e+04   \n",
              "mean       3.714467  6.322958e+03     100.160793  3.468775e+02  6.225975e+03   \n",
              "std        1.340829  3.590460e+05    3840.318527  2.045611e+04  3.333182e+05   \n",
              "min        0.000000  0.000000e+00       0.000000  0.000000e+00  0.000000e+00   \n",
              "25%        3.750000  1.980000e+02       3.000000  7.000000e+00  8.000000e+01   \n",
              "50%        4.375000  3.310000e+02       8.000000  1.700000e+01  2.940000e+02   \n",
              "75%        4.375000  5.860000e+02      27.000000  3.300000e+01  7.110000e+02   \n",
              "max        5.000000  3.011122e+07  236489.000000  1.722763e+06  2.767511e+07   \n",
              "\n",
              "          #cakeweek    #wasteless  22-minute meals  3-ingredient recipes  \\\n",
              "count  20052.000000  20052.000000     20052.000000          20052.000000   \n",
              "mean       0.000299      0.000050         0.000848              0.001346   \n",
              "std        0.017296      0.007062         0.029105              0.036671   \n",
              "min        0.000000      0.000000         0.000000              0.000000   \n",
              "25%        0.000000      0.000000         0.000000              0.000000   \n",
              "50%        0.000000      0.000000         0.000000              0.000000   \n",
              "75%        0.000000      0.000000         0.000000              0.000000   \n",
              "max        1.000000      1.000000         1.000000              1.000000   \n",
              "\n",
              "       30 days of groceries  ...  yellow squash        yogurt       yonkers  \\\n",
              "count          20052.000000  ...   20052.000000  20052.000000  20052.000000   \n",
              "mean               0.000349  ...       0.001247      0.026332      0.000050   \n",
              "std                0.018681  ...       0.035288      0.160123      0.007062   \n",
              "min                0.000000  ...       0.000000      0.000000      0.000000   \n",
              "25%                0.000000  ...       0.000000      0.000000      0.000000   \n",
              "50%                0.000000  ...       0.000000      0.000000      0.000000   \n",
              "75%                0.000000  ...       0.000000      0.000000      0.000000   \n",
              "max                1.000000  ...       1.000000      1.000000      1.000000   \n",
              "\n",
              "               yuca      zucchini     cookbooks     leftovers         snack  \\\n",
              "count  20052.000000  20052.000000  20052.000000  20052.000000  20052.000000   \n",
              "mean       0.000299      0.014861      0.000150      0.000349      0.001396   \n",
              "std        0.017296      0.121001      0.012231      0.018681      0.037343   \n",
              "min        0.000000      0.000000      0.000000      0.000000      0.000000   \n",
              "25%        0.000000      0.000000      0.000000      0.000000      0.000000   \n",
              "50%        0.000000      0.000000      0.000000      0.000000      0.000000   \n",
              "75%        0.000000      0.000000      0.000000      0.000000      0.000000   \n",
              "max        1.000000      1.000000      1.000000      1.000000      1.000000   \n",
              "\n",
              "         snack week        turkey  \n",
              "count  20052.000000  20052.000000  \n",
              "mean       0.000948      0.022741  \n",
              "std        0.030768      0.149080  \n",
              "min        0.000000      0.000000  \n",
              "25%        0.000000      0.000000  \n",
              "50%        0.000000      0.000000  \n",
              "75%        0.000000      0.000000  \n",
              "max        1.000000      1.000000  \n",
              "\n",
              "[8 rows x 679 columns]"
            ],
            "text/html": [
              "\n",
              "  <div id=\"df-ebd90f77-d35f-4a94-93ce-f0f6d67126cf\" class=\"colab-df-container\">\n",
              "    <div>\n",
              "<style scoped>\n",
              "    .dataframe tbody tr th:only-of-type {\n",
              "        vertical-align: middle;\n",
              "    }\n",
              "\n",
              "    .dataframe tbody tr th {\n",
              "        vertical-align: top;\n",
              "    }\n",
              "\n",
              "    .dataframe thead th {\n",
              "        text-align: right;\n",
              "    }\n",
              "</style>\n",
              "<table border=\"1\" class=\"dataframe\">\n",
              "  <thead>\n",
              "    <tr style=\"text-align: right;\">\n",
              "      <th></th>\n",
              "      <th>rating</th>\n",
              "      <th>calories</th>\n",
              "      <th>protein</th>\n",
              "      <th>fat</th>\n",
              "      <th>sodium</th>\n",
              "      <th>#cakeweek</th>\n",
              "      <th>#wasteless</th>\n",
              "      <th>22-minute meals</th>\n",
              "      <th>3-ingredient recipes</th>\n",
              "      <th>30 days of groceries</th>\n",
              "      <th>...</th>\n",
              "      <th>yellow squash</th>\n",
              "      <th>yogurt</th>\n",
              "      <th>yonkers</th>\n",
              "      <th>yuca</th>\n",
              "      <th>zucchini</th>\n",
              "      <th>cookbooks</th>\n",
              "      <th>leftovers</th>\n",
              "      <th>snack</th>\n",
              "      <th>snack week</th>\n",
              "      <th>turkey</th>\n",
              "    </tr>\n",
              "  </thead>\n",
              "  <tbody>\n",
              "    <tr>\n",
              "      <th>count</th>\n",
              "      <td>20052.000000</td>\n",
              "      <td>1.593500e+04</td>\n",
              "      <td>15890.000000</td>\n",
              "      <td>1.586900e+04</td>\n",
              "      <td>1.593300e+04</td>\n",
              "      <td>20052.000000</td>\n",
              "      <td>20052.000000</td>\n",
              "      <td>20052.000000</td>\n",
              "      <td>20052.000000</td>\n",
              "      <td>20052.000000</td>\n",
              "      <td>...</td>\n",
              "      <td>20052.000000</td>\n",
              "      <td>20052.000000</td>\n",
              "      <td>20052.000000</td>\n",
              "      <td>20052.000000</td>\n",
              "      <td>20052.000000</td>\n",
              "      <td>20052.000000</td>\n",
              "      <td>20052.000000</td>\n",
              "      <td>20052.000000</td>\n",
              "      <td>20052.000000</td>\n",
              "      <td>20052.000000</td>\n",
              "    </tr>\n",
              "    <tr>\n",
              "      <th>mean</th>\n",
              "      <td>3.714467</td>\n",
              "      <td>6.322958e+03</td>\n",
              "      <td>100.160793</td>\n",
              "      <td>3.468775e+02</td>\n",
              "      <td>6.225975e+03</td>\n",
              "      <td>0.000299</td>\n",
              "      <td>0.000050</td>\n",
              "      <td>0.000848</td>\n",
              "      <td>0.001346</td>\n",
              "      <td>0.000349</td>\n",
              "      <td>...</td>\n",
              "      <td>0.001247</td>\n",
              "      <td>0.026332</td>\n",
              "      <td>0.000050</td>\n",
              "      <td>0.000299</td>\n",
              "      <td>0.014861</td>\n",
              "      <td>0.000150</td>\n",
              "      <td>0.000349</td>\n",
              "      <td>0.001396</td>\n",
              "      <td>0.000948</td>\n",
              "      <td>0.022741</td>\n",
              "    </tr>\n",
              "    <tr>\n",
              "      <th>std</th>\n",
              "      <td>1.340829</td>\n",
              "      <td>3.590460e+05</td>\n",
              "      <td>3840.318527</td>\n",
              "      <td>2.045611e+04</td>\n",
              "      <td>3.333182e+05</td>\n",
              "      <td>0.017296</td>\n",
              "      <td>0.007062</td>\n",
              "      <td>0.029105</td>\n",
              "      <td>0.036671</td>\n",
              "      <td>0.018681</td>\n",
              "      <td>...</td>\n",
              "      <td>0.035288</td>\n",
              "      <td>0.160123</td>\n",
              "      <td>0.007062</td>\n",
              "      <td>0.017296</td>\n",
              "      <td>0.121001</td>\n",
              "      <td>0.012231</td>\n",
              "      <td>0.018681</td>\n",
              "      <td>0.037343</td>\n",
              "      <td>0.030768</td>\n",
              "      <td>0.149080</td>\n",
              "    </tr>\n",
              "    <tr>\n",
              "      <th>min</th>\n",
              "      <td>0.000000</td>\n",
              "      <td>0.000000e+00</td>\n",
              "      <td>0.000000</td>\n",
              "      <td>0.000000e+00</td>\n",
              "      <td>0.000000e+00</td>\n",
              "      <td>0.000000</td>\n",
              "      <td>0.000000</td>\n",
              "      <td>0.000000</td>\n",
              "      <td>0.000000</td>\n",
              "      <td>0.000000</td>\n",
              "      <td>...</td>\n",
              "      <td>0.000000</td>\n",
              "      <td>0.000000</td>\n",
              "      <td>0.000000</td>\n",
              "      <td>0.000000</td>\n",
              "      <td>0.000000</td>\n",
              "      <td>0.000000</td>\n",
              "      <td>0.000000</td>\n",
              "      <td>0.000000</td>\n",
              "      <td>0.000000</td>\n",
              "      <td>0.000000</td>\n",
              "    </tr>\n",
              "    <tr>\n",
              "      <th>25%</th>\n",
              "      <td>3.750000</td>\n",
              "      <td>1.980000e+02</td>\n",
              "      <td>3.000000</td>\n",
              "      <td>7.000000e+00</td>\n",
              "      <td>8.000000e+01</td>\n",
              "      <td>0.000000</td>\n",
              "      <td>0.000000</td>\n",
              "      <td>0.000000</td>\n",
              "      <td>0.000000</td>\n",
              "      <td>0.000000</td>\n",
              "      <td>...</td>\n",
              "      <td>0.000000</td>\n",
              "      <td>0.000000</td>\n",
              "      <td>0.000000</td>\n",
              "      <td>0.000000</td>\n",
              "      <td>0.000000</td>\n",
              "      <td>0.000000</td>\n",
              "      <td>0.000000</td>\n",
              "      <td>0.000000</td>\n",
              "      <td>0.000000</td>\n",
              "      <td>0.000000</td>\n",
              "    </tr>\n",
              "    <tr>\n",
              "      <th>50%</th>\n",
              "      <td>4.375000</td>\n",
              "      <td>3.310000e+02</td>\n",
              "      <td>8.000000</td>\n",
              "      <td>1.700000e+01</td>\n",
              "      <td>2.940000e+02</td>\n",
              "      <td>0.000000</td>\n",
              "      <td>0.000000</td>\n",
              "      <td>0.000000</td>\n",
              "      <td>0.000000</td>\n",
              "      <td>0.000000</td>\n",
              "      <td>...</td>\n",
              "      <td>0.000000</td>\n",
              "      <td>0.000000</td>\n",
              "      <td>0.000000</td>\n",
              "      <td>0.000000</td>\n",
              "      <td>0.000000</td>\n",
              "      <td>0.000000</td>\n",
              "      <td>0.000000</td>\n",
              "      <td>0.000000</td>\n",
              "      <td>0.000000</td>\n",
              "      <td>0.000000</td>\n",
              "    </tr>\n",
              "    <tr>\n",
              "      <th>75%</th>\n",
              "      <td>4.375000</td>\n",
              "      <td>5.860000e+02</td>\n",
              "      <td>27.000000</td>\n",
              "      <td>3.300000e+01</td>\n",
              "      <td>7.110000e+02</td>\n",
              "      <td>0.000000</td>\n",
              "      <td>0.000000</td>\n",
              "      <td>0.000000</td>\n",
              "      <td>0.000000</td>\n",
              "      <td>0.000000</td>\n",
              "      <td>...</td>\n",
              "      <td>0.000000</td>\n",
              "      <td>0.000000</td>\n",
              "      <td>0.000000</td>\n",
              "      <td>0.000000</td>\n",
              "      <td>0.000000</td>\n",
              "      <td>0.000000</td>\n",
              "      <td>0.000000</td>\n",
              "      <td>0.000000</td>\n",
              "      <td>0.000000</td>\n",
              "      <td>0.000000</td>\n",
              "    </tr>\n",
              "    <tr>\n",
              "      <th>max</th>\n",
              "      <td>5.000000</td>\n",
              "      <td>3.011122e+07</td>\n",
              "      <td>236489.000000</td>\n",
              "      <td>1.722763e+06</td>\n",
              "      <td>2.767511e+07</td>\n",
              "      <td>1.000000</td>\n",
              "      <td>1.000000</td>\n",
              "      <td>1.000000</td>\n",
              "      <td>1.000000</td>\n",
              "      <td>1.000000</td>\n",
              "      <td>...</td>\n",
              "      <td>1.000000</td>\n",
              "      <td>1.000000</td>\n",
              "      <td>1.000000</td>\n",
              "      <td>1.000000</td>\n",
              "      <td>1.000000</td>\n",
              "      <td>1.000000</td>\n",
              "      <td>1.000000</td>\n",
              "      <td>1.000000</td>\n",
              "      <td>1.000000</td>\n",
              "      <td>1.000000</td>\n",
              "    </tr>\n",
              "  </tbody>\n",
              "</table>\n",
              "<p>8 rows × 679 columns</p>\n",
              "</div>\n",
              "    <div class=\"colab-df-buttons\">\n",
              "\n",
              "  <div class=\"colab-df-container\">\n",
              "    <button class=\"colab-df-convert\" onclick=\"convertToInteractive('df-ebd90f77-d35f-4a94-93ce-f0f6d67126cf')\"\n",
              "            title=\"Convert this dataframe to an interactive table.\"\n",
              "            style=\"display:none;\">\n",
              "\n",
              "  <svg xmlns=\"http://www.w3.org/2000/svg\" height=\"24px\" viewBox=\"0 -960 960 960\">\n",
              "    <path d=\"M120-120v-720h720v720H120Zm60-500h600v-160H180v160Zm220 220h160v-160H400v160Zm0 220h160v-160H400v160ZM180-400h160v-160H180v160Zm440 0h160v-160H620v160ZM180-180h160v-160H180v160Zm440 0h160v-160H620v160Z\"/>\n",
              "  </svg>\n",
              "    </button>\n",
              "\n",
              "  <style>\n",
              "    .colab-df-container {\n",
              "      display:flex;\n",
              "      gap: 12px;\n",
              "    }\n",
              "\n",
              "    .colab-df-convert {\n",
              "      background-color: #E8F0FE;\n",
              "      border: none;\n",
              "      border-radius: 50%;\n",
              "      cursor: pointer;\n",
              "      display: none;\n",
              "      fill: #1967D2;\n",
              "      height: 32px;\n",
              "      padding: 0 0 0 0;\n",
              "      width: 32px;\n",
              "    }\n",
              "\n",
              "    .colab-df-convert:hover {\n",
              "      background-color: #E2EBFA;\n",
              "      box-shadow: 0px 1px 2px rgba(60, 64, 67, 0.3), 0px 1px 3px 1px rgba(60, 64, 67, 0.15);\n",
              "      fill: #174EA6;\n",
              "    }\n",
              "\n",
              "    .colab-df-buttons div {\n",
              "      margin-bottom: 4px;\n",
              "    }\n",
              "\n",
              "    [theme=dark] .colab-df-convert {\n",
              "      background-color: #3B4455;\n",
              "      fill: #D2E3FC;\n",
              "    }\n",
              "\n",
              "    [theme=dark] .colab-df-convert:hover {\n",
              "      background-color: #434B5C;\n",
              "      box-shadow: 0px 1px 3px 1px rgba(0, 0, 0, 0.15);\n",
              "      filter: drop-shadow(0px 1px 2px rgba(0, 0, 0, 0.3));\n",
              "      fill: #FFFFFF;\n",
              "    }\n",
              "  </style>\n",
              "\n",
              "    <script>\n",
              "      const buttonEl =\n",
              "        document.querySelector('#df-ebd90f77-d35f-4a94-93ce-f0f6d67126cf button.colab-df-convert');\n",
              "      buttonEl.style.display =\n",
              "        google.colab.kernel.accessAllowed ? 'block' : 'none';\n",
              "\n",
              "      async function convertToInteractive(key) {\n",
              "        const element = document.querySelector('#df-ebd90f77-d35f-4a94-93ce-f0f6d67126cf');\n",
              "        const dataTable =\n",
              "          await google.colab.kernel.invokeFunction('convertToInteractive',\n",
              "                                                    [key], {});\n",
              "        if (!dataTable) return;\n",
              "\n",
              "        const docLinkHtml = 'Like what you see? Visit the ' +\n",
              "          '<a target=\"_blank\" href=https://colab.research.google.com/notebooks/data_table.ipynb>data table notebook</a>'\n",
              "          + ' to learn more about interactive tables.';\n",
              "        element.innerHTML = '';\n",
              "        dataTable['output_type'] = 'display_data';\n",
              "        await google.colab.output.renderOutput(dataTable, element);\n",
              "        const docLink = document.createElement('div');\n",
              "        docLink.innerHTML = docLinkHtml;\n",
              "        element.appendChild(docLink);\n",
              "      }\n",
              "    </script>\n",
              "  </div>\n",
              "\n",
              "\n",
              "<div id=\"df-baab6bd0-94db-48fe-bc15-025ee2815234\">\n",
              "  <button class=\"colab-df-quickchart\" onclick=\"quickchart('df-baab6bd0-94db-48fe-bc15-025ee2815234')\"\n",
              "            title=\"Suggest charts\"\n",
              "            style=\"display:none;\">\n",
              "\n",
              "<svg xmlns=\"http://www.w3.org/2000/svg\" height=\"24px\"viewBox=\"0 0 24 24\"\n",
              "     width=\"24px\">\n",
              "    <g>\n",
              "        <path d=\"M19 3H5c-1.1 0-2 .9-2 2v14c0 1.1.9 2 2 2h14c1.1 0 2-.9 2-2V5c0-1.1-.9-2-2-2zM9 17H7v-7h2v7zm4 0h-2V7h2v10zm4 0h-2v-4h2v4z\"/>\n",
              "    </g>\n",
              "</svg>\n",
              "  </button>\n",
              "\n",
              "<style>\n",
              "  .colab-df-quickchart {\n",
              "      --bg-color: #E8F0FE;\n",
              "      --fill-color: #1967D2;\n",
              "      --hover-bg-color: #E2EBFA;\n",
              "      --hover-fill-color: #174EA6;\n",
              "      --disabled-fill-color: #AAA;\n",
              "      --disabled-bg-color: #DDD;\n",
              "  }\n",
              "\n",
              "  [theme=dark] .colab-df-quickchart {\n",
              "      --bg-color: #3B4455;\n",
              "      --fill-color: #D2E3FC;\n",
              "      --hover-bg-color: #434B5C;\n",
              "      --hover-fill-color: #FFFFFF;\n",
              "      --disabled-bg-color: #3B4455;\n",
              "      --disabled-fill-color: #666;\n",
              "  }\n",
              "\n",
              "  .colab-df-quickchart {\n",
              "    background-color: var(--bg-color);\n",
              "    border: none;\n",
              "    border-radius: 50%;\n",
              "    cursor: pointer;\n",
              "    display: none;\n",
              "    fill: var(--fill-color);\n",
              "    height: 32px;\n",
              "    padding: 0;\n",
              "    width: 32px;\n",
              "  }\n",
              "\n",
              "  .colab-df-quickchart:hover {\n",
              "    background-color: var(--hover-bg-color);\n",
              "    box-shadow: 0 1px 2px rgba(60, 64, 67, 0.3), 0 1px 3px 1px rgba(60, 64, 67, 0.15);\n",
              "    fill: var(--button-hover-fill-color);\n",
              "  }\n",
              "\n",
              "  .colab-df-quickchart-complete:disabled,\n",
              "  .colab-df-quickchart-complete:disabled:hover {\n",
              "    background-color: var(--disabled-bg-color);\n",
              "    fill: var(--disabled-fill-color);\n",
              "    box-shadow: none;\n",
              "  }\n",
              "\n",
              "  .colab-df-spinner {\n",
              "    border: 2px solid var(--fill-color);\n",
              "    border-color: transparent;\n",
              "    border-bottom-color: var(--fill-color);\n",
              "    animation:\n",
              "      spin 1s steps(1) infinite;\n",
              "  }\n",
              "\n",
              "  @keyframes spin {\n",
              "    0% {\n",
              "      border-color: transparent;\n",
              "      border-bottom-color: var(--fill-color);\n",
              "      border-left-color: var(--fill-color);\n",
              "    }\n",
              "    20% {\n",
              "      border-color: transparent;\n",
              "      border-left-color: var(--fill-color);\n",
              "      border-top-color: var(--fill-color);\n",
              "    }\n",
              "    30% {\n",
              "      border-color: transparent;\n",
              "      border-left-color: var(--fill-color);\n",
              "      border-top-color: var(--fill-color);\n",
              "      border-right-color: var(--fill-color);\n",
              "    }\n",
              "    40% {\n",
              "      border-color: transparent;\n",
              "      border-right-color: var(--fill-color);\n",
              "      border-top-color: var(--fill-color);\n",
              "    }\n",
              "    60% {\n",
              "      border-color: transparent;\n",
              "      border-right-color: var(--fill-color);\n",
              "    }\n",
              "    80% {\n",
              "      border-color: transparent;\n",
              "      border-right-color: var(--fill-color);\n",
              "      border-bottom-color: var(--fill-color);\n",
              "    }\n",
              "    90% {\n",
              "      border-color: transparent;\n",
              "      border-bottom-color: var(--fill-color);\n",
              "    }\n",
              "  }\n",
              "</style>\n",
              "\n",
              "  <script>\n",
              "    async function quickchart(key) {\n",
              "      const quickchartButtonEl =\n",
              "        document.querySelector('#' + key + ' button');\n",
              "      quickchartButtonEl.disabled = true;  // To prevent multiple clicks.\n",
              "      quickchartButtonEl.classList.add('colab-df-spinner');\n",
              "      try {\n",
              "        const charts = await google.colab.kernel.invokeFunction(\n",
              "            'suggestCharts', [key], {});\n",
              "      } catch (error) {\n",
              "        console.error('Error during call to suggestCharts:', error);\n",
              "      }\n",
              "      quickchartButtonEl.classList.remove('colab-df-spinner');\n",
              "      quickchartButtonEl.classList.add('colab-df-quickchart-complete');\n",
              "    }\n",
              "    (() => {\n",
              "      let quickchartButtonEl =\n",
              "        document.querySelector('#df-baab6bd0-94db-48fe-bc15-025ee2815234 button');\n",
              "      quickchartButtonEl.style.display =\n",
              "        google.colab.kernel.accessAllowed ? 'block' : 'none';\n",
              "    })();\n",
              "  </script>\n",
              "</div>\n",
              "\n",
              "    </div>\n",
              "  </div>\n"
            ],
            "application/vnd.google.colaboratory.intrinsic+json": {
              "type": "dataframe"
            }
          },
          "metadata": {},
          "execution_count": 6
        }
      ]
    },
    {
      "cell_type": "code",
      "source": [
        "data.isnull().sum()"
      ],
      "metadata": {
        "colab": {
          "base_uri": "https://localhost:8080/",
          "height": 458
        },
        "id": "MbSMREM-PAWO",
        "outputId": "c0df1bc8-53b0-489f-a626-dd0f34c44dfa"
      },
      "execution_count": null,
      "outputs": [
        {
          "output_type": "execute_result",
          "data": {
            "text/plain": [
              "title            0\n",
              "rating           0\n",
              "calories      4117\n",
              "protein       4162\n",
              "fat           4183\n",
              "              ... \n",
              "cookbooks        0\n",
              "leftovers        0\n",
              "snack            0\n",
              "snack week       0\n",
              "turkey           0\n",
              "Length: 680, dtype: int64"
            ],
            "text/html": [
              "<div>\n",
              "<style scoped>\n",
              "    .dataframe tbody tr th:only-of-type {\n",
              "        vertical-align: middle;\n",
              "    }\n",
              "\n",
              "    .dataframe tbody tr th {\n",
              "        vertical-align: top;\n",
              "    }\n",
              "\n",
              "    .dataframe thead th {\n",
              "        text-align: right;\n",
              "    }\n",
              "</style>\n",
              "<table border=\"1\" class=\"dataframe\">\n",
              "  <thead>\n",
              "    <tr style=\"text-align: right;\">\n",
              "      <th></th>\n",
              "      <th>0</th>\n",
              "    </tr>\n",
              "  </thead>\n",
              "  <tbody>\n",
              "    <tr>\n",
              "      <th>title</th>\n",
              "      <td>0</td>\n",
              "    </tr>\n",
              "    <tr>\n",
              "      <th>rating</th>\n",
              "      <td>0</td>\n",
              "    </tr>\n",
              "    <tr>\n",
              "      <th>calories</th>\n",
              "      <td>4117</td>\n",
              "    </tr>\n",
              "    <tr>\n",
              "      <th>protein</th>\n",
              "      <td>4162</td>\n",
              "    </tr>\n",
              "    <tr>\n",
              "      <th>fat</th>\n",
              "      <td>4183</td>\n",
              "    </tr>\n",
              "    <tr>\n",
              "      <th>...</th>\n",
              "      <td>...</td>\n",
              "    </tr>\n",
              "    <tr>\n",
              "      <th>cookbooks</th>\n",
              "      <td>0</td>\n",
              "    </tr>\n",
              "    <tr>\n",
              "      <th>leftovers</th>\n",
              "      <td>0</td>\n",
              "    </tr>\n",
              "    <tr>\n",
              "      <th>snack</th>\n",
              "      <td>0</td>\n",
              "    </tr>\n",
              "    <tr>\n",
              "      <th>snack week</th>\n",
              "      <td>0</td>\n",
              "    </tr>\n",
              "    <tr>\n",
              "      <th>turkey</th>\n",
              "      <td>0</td>\n",
              "    </tr>\n",
              "  </tbody>\n",
              "</table>\n",
              "<p>680 rows × 1 columns</p>\n",
              "</div><br><label><b>dtype:</b> int64</label>"
            ]
          },
          "metadata": {},
          "execution_count": 7
        }
      ]
    },
    {
      "cell_type": "code",
      "source": [
        "data.calories.isnull().sum()"
      ],
      "metadata": {
        "colab": {
          "base_uri": "https://localhost:8080/"
        },
        "id": "JBSsJBqxQrbc",
        "outputId": "045e95e9-49be-4d02-e1c3-a419e3eb7b9b"
      },
      "execution_count": null,
      "outputs": [
        {
          "output_type": "execute_result",
          "data": {
            "text/plain": [
              "4117"
            ]
          },
          "metadata": {},
          "execution_count": 8
        }
      ]
    },
    {
      "cell_type": "code",
      "source": [
        "data=data[(data['calories']<10000) | (data['calories'].isnull()==1)]"
      ],
      "metadata": {
        "id": "lXcAEdhJPF3Z"
      },
      "execution_count": null,
      "outputs": []
    },
    {
      "cell_type": "code",
      "source": [
        "calMean=data.calories.mean()\n",
        "calMean"
      ],
      "metadata": {
        "id": "hrN_qhySQA6h",
        "colab": {
          "base_uri": "https://localhost:8080/"
        },
        "outputId": "574ad772-4426-47eb-c557-ed457a56b6f9"
      },
      "execution_count": null,
      "outputs": [
        {
          "output_type": "execute_result",
          "data": {
            "text/plain": [
              "487.9006535126304"
            ]
          },
          "metadata": {},
          "execution_count": 10
        }
      ]
    },
    {
      "cell_type": "code",
      "source": [
        "data.fillna(calMean,inplace=True)"
      ],
      "metadata": {
        "id": "sqM-LKaBn2Sk"
      },
      "execution_count": null,
      "outputs": []
    },
    {
      "cell_type": "code",
      "source": [
        "data.calories.describe()"
      ],
      "metadata": {
        "colab": {
          "base_uri": "https://localhost:8080/",
          "height": 335
        },
        "id": "NoL73H1roFRq",
        "outputId": "44013df2-ee3a-4f10-c579-dcb0434eefa6"
      },
      "execution_count": null,
      "outputs": [
        {
          "output_type": "execute_result",
          "data": {
            "text/plain": [
              "count    20031.000000\n",
              "mean       487.900654\n",
              "std        536.611756\n",
              "min          0.000000\n",
              "25%        229.000000\n",
              "50%        445.000000\n",
              "75%        502.000000\n",
              "max       9831.000000\n",
              "Name: calories, dtype: float64"
            ],
            "text/html": [
              "<div>\n",
              "<style scoped>\n",
              "    .dataframe tbody tr th:only-of-type {\n",
              "        vertical-align: middle;\n",
              "    }\n",
              "\n",
              "    .dataframe tbody tr th {\n",
              "        vertical-align: top;\n",
              "    }\n",
              "\n",
              "    .dataframe thead th {\n",
              "        text-align: right;\n",
              "    }\n",
              "</style>\n",
              "<table border=\"1\" class=\"dataframe\">\n",
              "  <thead>\n",
              "    <tr style=\"text-align: right;\">\n",
              "      <th></th>\n",
              "      <th>calories</th>\n",
              "    </tr>\n",
              "  </thead>\n",
              "  <tbody>\n",
              "    <tr>\n",
              "      <th>count</th>\n",
              "      <td>20031.000000</td>\n",
              "    </tr>\n",
              "    <tr>\n",
              "      <th>mean</th>\n",
              "      <td>487.900654</td>\n",
              "    </tr>\n",
              "    <tr>\n",
              "      <th>std</th>\n",
              "      <td>536.611756</td>\n",
              "    </tr>\n",
              "    <tr>\n",
              "      <th>min</th>\n",
              "      <td>0.000000</td>\n",
              "    </tr>\n",
              "    <tr>\n",
              "      <th>25%</th>\n",
              "      <td>229.000000</td>\n",
              "    </tr>\n",
              "    <tr>\n",
              "      <th>50%</th>\n",
              "      <td>445.000000</td>\n",
              "    </tr>\n",
              "    <tr>\n",
              "      <th>75%</th>\n",
              "      <td>502.000000</td>\n",
              "    </tr>\n",
              "    <tr>\n",
              "      <th>max</th>\n",
              "      <td>9831.000000</td>\n",
              "    </tr>\n",
              "  </tbody>\n",
              "</table>\n",
              "</div><br><label><b>dtype:</b> float64</label>"
            ]
          },
          "metadata": {},
          "execution_count": 12
        }
      ]
    },
    {
      "cell_type": "code",
      "source": [
        "data.rating.hist(bins=20)"
      ],
      "metadata": {
        "colab": {
          "base_uri": "https://localhost:8080/",
          "height": 447
        },
        "id": "hdoyV92SoMn4",
        "outputId": "bc983eda-be0e-479b-f1e1-7cbb80965aff"
      },
      "execution_count": null,
      "outputs": [
        {
          "output_type": "execute_result",
          "data": {
            "text/plain": [
              "<Axes: >"
            ]
          },
          "metadata": {},
          "execution_count": 13
        },
        {
          "output_type": "display_data",
          "data": {
            "text/plain": [
              "<Figure size 640x480 with 1 Axes>"
            ],
            "image/png": "[encoded data removed]"
          },
          "metadata": {}
        }
      ]
    },
    {
      "cell_type": "code",
      "source": [
        "sb.set_style(\"whitegrid\")\n",
        "sb.distplot(data.rating)"
      ],
      "metadata": {
        "colab": {
          "base_uri": "https://localhost:8080/",
          "height": 466
        },
        "id": "fWvX2eG5v9JC",
        "outputId": "83b3ff44-829a-4a20-fe94-75123bd737fd"
      },
      "execution_count": null,
      "outputs": [
        {
          "output_type": "execute_result",
          "data": {
            "text/plain": [
              "<Axes: xlabel='rating', ylabel='Density'>"
            ]
          },
          "metadata": {},
          "execution_count": 14
        },
        {
          "output_type": "display_data",
          "data": {
            "text/plain": [
              "<Figure size 640x480 with 1 Axes>"
            ],
            "image/png": "[encoded data removed]"
          },
          "metadata": {}
        }
      ]
    },
    {
      "cell_type": "code",
      "source": [
        "sb.set_style(\"whitegrid\")\n",
        "sb.boxplot(data=data['rating'])"
      ],
      "metadata": {
        "colab": {
          "base_uri": "https://localhost:8080/",
          "height": 423
        },
        "id": "3v_5SIU5wH6Y",
        "outputId": "44ee8027-664e-4f9b-e2d4-9e05775049e2"
      },
      "execution_count": null,
      "outputs": [
        {
          "output_type": "execute_result",
          "data": {
            "text/plain": [
              "<Axes: ylabel='rating'>"
            ]
          },
          "metadata": {},
          "execution_count": 15
        },
        {
          "output_type": "display_data",
          "data": {
            "text/plain": [
              "<Figure size 640x480 with 1 Axes>"
            ],
            "image/png": "[encoded data removed]"
          },
          "metadata": {}
        }
      ]
    },
    {
      "cell_type": "code",
      "source": [
        "data.rating.isnull().sum()"
      ],
      "metadata": {
        "colab": {
          "base_uri": "https://localhost:8080/"
        },
        "id": "nBH1uq91wskn",
        "outputId": "b753dcbe-b8d4-48b7-8ce2-84cfdc53cbbb"
      },
      "execution_count": null,
      "outputs": [
        {
          "output_type": "execute_result",
          "data": {
            "text/plain": [
              "0"
            ]
          },
          "metadata": {},
          "execution_count": 16
        }
      ]
    },
    {
      "cell_type": "code",
      "source": [
        "data.calories.hist(bins=20)\n",
        "plt.title(\"Calories Distribution\")\n",
        "plt.xlabel(\"Calories\")\n",
        "plt.ylabel(\"Frequency\")"
      ],
      "metadata": {
        "colab": {
          "base_uri": "https://localhost:8080/",
          "height": 489
        },
        "id": "VOAJWJfKxJbs",
        "outputId": "280d1b2d-261d-465c-82ec-2a54a2b27d77"
      },
      "execution_count": null,
      "outputs": [
        {
          "output_type": "execute_result",
          "data": {
            "text/plain": [
              "Text(0, 0.5, 'Frequency')"
            ]
          },
          "metadata": {},
          "execution_count": 17
        },
        {
          "output_type": "display_data",
          "data": {
            "text/plain": [
              "<Figure size 640x480 with 1 Axes>"
            ],
            "image/png": "[encoded data removed]"
          },
          "metadata": {}
        }
      ]
    },
    {
      "cell_type": "code",
      "source": [
        "sb.set_style(\"whitegrid\")\n",
        "sb.distplot(data.calories)"
      ],
      "metadata": {
        "colab": {
          "base_uri": "https://localhost:8080/",
          "height": 466
        },
        "id": "Xbcx_GWOxS8L",
        "outputId": "19585025-c5d4-46bc-eab6-9536b31bb4a7"
      },
      "execution_count": null,
      "outputs": [
        {
          "output_type": "execute_result",
          "data": {
            "text/plain": [
              "<Axes: xlabel='calories', ylabel='Density'>"
            ]
          },
          "metadata": {},
          "execution_count": 18
        },
        {
          "output_type": "display_data",
          "data": {
            "text/plain": [
              "<Figure size 640x480 with 1 Axes>"
            ],
            "image/png": "[encoded data removed]"
          },
          "metadata": {}
        }
      ]
    },
    {
      "cell_type": "code",
      "source": [
        "sb.set_style(\"whitegrid\")\n",
        "sb.boxplot(data=data['calories'])"
      ],
      "metadata": {
        "colab": {
          "base_uri": "https://localhost:8080/",
          "height": 423
        },
        "id": "N93OumL9xtI6",
        "outputId": "3e77a6aa-61c9-470e-dd75-a8c063e341bb"
      },
      "execution_count": null,
      "outputs": [
        {
          "output_type": "execute_result",
          "data": {
            "text/plain": [
              "<Axes: ylabel='calories'>"
            ]
          },
          "metadata": {},
          "execution_count": 19
        },
        {
          "output_type": "display_data",
          "data": {
            "text/plain": [
              "<Figure size 640x480 with 1 Axes>"
            ],
            "image/png": "[encoded data removed]"
          },
          "metadata": {}
        }
      ]
    },
    {
      "cell_type": "code",
      "source": [
        "data.calories.isnull().sum()"
      ],
      "metadata": {
        "colab": {
          "base_uri": "https://localhost:8080/"
        },
        "id": "pLY6EWM4x6Zr",
        "outputId": "4cf66fc8-fd00-453b-8602-8986b8b9f106"
      },
      "execution_count": null,
      "outputs": [
        {
          "output_type": "execute_result",
          "data": {
            "text/plain": [
              "0"
            ]
          },
          "metadata": {},
          "execution_count": 20
        }
      ]
    },
    {
      "cell_type": "code",
      "source": [
        "data['rating'].plot.kde()\n",
        "plt.xlabel('Rating')\n",
        "plt.ylabel('Density')"
      ],
      "metadata": {
        "colab": {
          "base_uri": "https://localhost:8080/",
          "height": 466
        },
        "id": "uIo9LaT0x_pU",
        "outputId": "2c4fba70-2f3e-46f0-ff5a-8c1940503a0b"
      },
      "execution_count": null,
      "outputs": [
        {
          "output_type": "execute_result",
          "data": {
            "text/plain": [
              "Text(0, 0.5, 'Density')"
            ]
          },
          "metadata": {},
          "execution_count": 21
        },
        {
          "output_type": "display_data",
          "data": {
            "text/plain": [
              "<Figure size 640x480 with 1 Axes>"
            ],
            "image/png": "[encoded data removed]"
          },
          "metadata": {}
        }
      ]
    },
    {
      "cell_type": "code",
      "source": [
        "data['calories'].plot.kde()\n",
        "plt.xlabel('Calories')\n",
        "plt.ylabel('Density')\n"
      ],
      "metadata": {
        "colab": {
          "base_uri": "https://localhost:8080/",
          "height": 466
        },
        "id": "9ksubfe6yVPH",
        "outputId": "b59c9ca0-ffde-4a64-e12a-21957f6255a7"
      },
      "execution_count": null,
      "outputs": [
        {
          "output_type": "execute_result",
          "data": {
            "text/plain": [
              "Text(0, 0.5, 'Density')"
            ]
          },
          "metadata": {},
          "execution_count": 22
        },
        {
          "output_type": "display_data",
          "data": {
            "text/plain": [
              "<Figure size 640x480 with 1 Axes>"
            ],
            "image/png": "[encoded data removed]"
          },
          "metadata": {}
        }
      ]
    },
    {
      "cell_type": "code",
      "source": [
        "sb.scatterplot(x=data['calories'],y=data['rating'])"
      ],
      "metadata": {
        "colab": {
          "base_uri": "https://localhost:8080/",
          "height": 466
        },
        "id": "4OX8l1TXyvQP",
        "outputId": "42537840-3270-4ad7-aef1-969944a4ece8"
      },
      "execution_count": null,
      "outputs": [
        {
          "output_type": "execute_result",
          "data": {
            "text/plain": [
              "<Axes: xlabel='calories', ylabel='rating'>"
            ]
          },
          "metadata": {},
          "execution_count": 24
        },
        {
          "output_type": "display_data",
          "data": {
            "text/plain": [
              "<Figure size 640x480 with 1 Axes>"
            ],
            "image/png": "[encoded data removed]"
          },
          "metadata": {}
        }
      ]
    },
    {
      "cell_type": "code",
      "source": [
        "sb.pairplot(data=data.iloc[:,1:3])"
      ],
      "metadata": {
        "id": "t_5Yzd_fy-yG",
        "colab": {
          "base_uri": "https://localhost:8080/",
          "height": 530
        },
        "outputId": "16705e42-4d61-48d6-d183-11eab3ac69fc"
      },
      "execution_count": null,
      "outputs": [
        {
          "output_type": "execute_result",
          "data": {
            "text/plain": [
              "<seaborn.axisgrid.PairGrid at 0x7885626596f0>"
            ]
          },
          "metadata": {},
          "execution_count": 25
        },
        {
          "output_type": "display_data",
          "data": {
            "text/plain": [
              "<Figure size 500x500 with 6 Axes>"
            ],
            "image/png": "[encoded data removed]"
          },
          "metadata": {}
        }
      ]
    },
    {
      "cell_type": "code",
      "source": [
        "print(data)"
      ],
      "metadata": {
        "colab": {
          "base_uri": "https://localhost:8080/"
        },
        "id": "uebasdMv3znq",
        "outputId": "9b008c85-e62a-419c-d7ab-596004ce777d"
      },
      "execution_count": null,
      "outputs": [
        {
          "output_type": "stream",
          "name": "stdout",
          "text": [
            "                                             title  rating    calories  \\\n",
            "0                  Lentil, Apple, and Turkey Wrap    2.500  426.000000   \n",
            "1      Boudin Blanc Terrine with Red Onion Confit    4.375  403.000000   \n",
            "2                    Potato and Fennel Soup Hodge    3.750  165.000000   \n",
            "3                 Mahi-Mahi in Tomato Olive Sauce    5.000  487.900654   \n",
            "4                        Spinach Noodle Casserole    3.125  547.000000   \n",
            "...                                            ...     ...         ...   \n",
            "20047                              Parmesan Puffs    3.125   28.000000   \n",
            "20048              Artichoke and Parmesan Risotto    4.375  671.000000   \n",
            "20049                       Turkey Cream Puff Pie    4.375  563.000000   \n",
            "20050     Snapper on Angel Hair with Citrus Cream    4.375  631.000000   \n",
            "20051  Baked Ham with Marmalade-Horseradish Glaze    4.375  560.000000   \n",
            "\n",
            "          protein         fat       sodium  #cakeweek  #wasteless  \\\n",
            "0       30.000000    7.000000   559.000000        0.0         0.0   \n",
            "1       18.000000   23.000000  1439.000000        0.0         0.0   \n",
            "2        6.000000    7.000000   165.000000        0.0         0.0   \n",
            "3      487.900654  487.900654   487.900654        0.0         0.0   \n",
            "4       20.000000   32.000000   452.000000        0.0         0.0   \n",
            "...           ...         ...          ...        ...         ...   \n",
            "20047    2.000000    2.000000    64.000000        0.0         0.0   \n",
            "20048   22.000000   28.000000   583.000000        0.0         0.0   \n",
            "20049   31.000000   38.000000   652.000000        0.0         0.0   \n",
            "20050   45.000000   24.000000   517.000000        0.0         0.0   \n",
            "20051   73.000000   10.000000  3698.000000        0.0         0.0   \n",
            "\n",
            "       22-minute meals  3-ingredient recipes  ...  yellow squash  yogurt  \\\n",
            "0                  0.0                   0.0  ...            0.0     0.0   \n",
            "1                  0.0                   0.0  ...            0.0     0.0   \n",
            "2                  0.0                   0.0  ...            0.0     0.0   \n",
            "3                  0.0                   0.0  ...            0.0     0.0   \n",
            "4                  0.0                   0.0  ...            0.0     0.0   \n",
            "...                ...                   ...  ...            ...     ...   \n",
            "20047              0.0                   0.0  ...            0.0     0.0   \n",
            "20048              0.0                   0.0  ...            0.0     0.0   \n",
            "20049              0.0                   0.0  ...            0.0     0.0   \n",
            "20050              0.0                   0.0  ...            0.0     0.0   \n",
            "20051              0.0                   0.0  ...            0.0     0.0   \n",
            "\n",
            "       yonkers  yuca  zucchini  cookbooks  leftovers  snack  snack week  \\\n",
            "0          0.0   0.0       0.0        0.0        0.0    0.0         0.0   \n",
            "1          0.0   0.0       0.0        0.0        0.0    0.0         0.0   \n",
            "2          0.0   0.0       0.0        0.0        0.0    0.0         0.0   \n",
            "3          0.0   0.0       0.0        0.0        0.0    0.0         0.0   \n",
            "4          0.0   0.0       0.0        0.0        0.0    0.0         0.0   \n",
            "...        ...   ...       ...        ...        ...    ...         ...   \n",
            "20047      0.0   0.0       0.0        0.0        0.0    0.0         0.0   \n",
            "20048      0.0   0.0       0.0        0.0        0.0    0.0         0.0   \n",
            "20049      0.0   0.0       0.0        0.0        0.0    0.0         0.0   \n",
            "20050      0.0   0.0       0.0        0.0        0.0    0.0         0.0   \n",
            "20051      0.0   0.0       0.0        0.0        0.0    0.0         0.0   \n",
            "\n",
            "       turkey  \n",
            "0         1.0  \n",
            "1         0.0  \n",
            "2         0.0  \n",
            "3         0.0  \n",
            "4         0.0  \n",
            "...       ...  \n",
            "20047     0.0  \n",
            "20048     0.0  \n",
            "20049     1.0  \n",
            "20050     0.0  \n",
            "20051     0.0  \n",
            "\n",
            "[20031 rows x 680 columns]\n"
          ]
        }
      ]
    },
    {
      "cell_type": "code",
      "source": [
        "count=0;\n",
        "for j in data.iloc[:,6:].columns:\n",
        "  if len(data[data[j]==1])<10:\n",
        "         data=data.drop(columns=j)\n",
        "         print(j)\n",
        "         count+=1\n",
        "print(count)"
      ],
      "metadata": {
        "colab": {
          "base_uri": "https://localhost:8080/"
        },
        "id": "uGICe-TB4FiQ",
        "outputId": "031ef651-57c2-4309-beec-098f380fcb70"
      },
      "execution_count": null,
      "outputs": [
        {
          "output_type": "stream",
          "name": "stdout",
          "text": [
            "#cakeweek\n",
            "#wasteless\n",
            "30 days of groceries\n",
            "alabama\n",
            "alaska\n",
            "anthony bourdain\n",
            "apple juice\n",
            "arizona\n",
            "aspen\n",
            "atlanta\n",
            "australia\n",
            "beverly hills\n",
            "biscuit\n",
            "boston\n",
            "bran\n",
            "brooklyn\n",
            "brownie\n",
            "buffalo\n",
            "bulgaria\n",
            "burrito\n",
            "cambridge\n",
            "camping\n",
            "canada\n",
            "caviar\n",
            "chicago\n",
            "chili\n",
            "cobbler/crumble\n",
            "columbus\n",
            "cook like a diner\n",
            "cookbook critic\n",
            "costa mesa\n",
            "cranberry sauce\n",
            "crêpe\n",
            "cr��me de cacao\n",
            "cuba\n",
            "cupcake\n",
            "custard\n",
            "dallas\n",
            "denver\n",
            "digestif\n",
            "dominican republic\n",
            "dorie greenspan\n",
            "eau de vie\n",
            "egg nog\n",
            "egypt\n",
            "emeril lagasse\n",
            "england\n",
            "entertaining\n",
            "epi + ushg\n",
            "epi loves the microwave\n",
            "flat bread\n",
            "frankenrecipe\n",
            "freezer food\n",
            "friendsgiving\n",
            "frittata\n",
            "fritter\n",
            "germany\n",
            "grains\n",
            "grand marnier\n",
            "granola\n",
            "grappa\n",
            "guam\n",
            "haiti\n",
            "hamburger\n",
            "hawaii\n",
            "healdsburg\n",
            "hollywood\n",
            "house cocktail\n",
            "houston\n",
            "hummus\n",
            "iced coffee\n",
            "idaho\n",
            "illinois\n",
            "indiana\n",
            "iowa\n",
            "israel\n",
            "italy\n",
            "jamaica\n",
            "japan\n",
            "juicer\n",
            "kansas\n",
            "kansas city\n",
            "kentucky\n",
            "kitchen olympics\n",
            "labor day\n",
            "lancaster\n",
            "las vegas\n",
            "lasagna\n",
            "lingonberry\n",
            "london\n",
            "long beach\n",
            "louisiana\n",
            "louisville\n",
            "lychee\n",
            "macaroni and cheese\n",
            "maine\n",
            "marinade\n",
            "marscarpone\n",
            "marshmallow\n",
            "martini\n",
            "meatball\n",
            "meatloaf\n",
            "mexico\n",
            "mezcal\n",
            "miami\n",
            "midori\n",
            "minneapolis\n",
            "mississippi\n",
            "mortar and pestle\n",
            "muffin\n",
            "nancy silverton\n",
            "nebraska\n",
            "new hampshire\n",
            "new orleans\n",
            "no meat, no problem\n",
            "octopus\n",
            "oklahoma\n",
            "omelet\n",
            "organic\n",
            "orzo\n",
            "pacific palisades\n",
            "pancake\n",
            "paris\n",
            "persian new year\n",
            "peru\n",
            "philippines\n",
            "poblano\n",
            "pomegranate juice\n",
            "pot pie\n",
            "potato salad\n",
            "pressure cooker\n",
            "providence\n",
            "quiche\n",
            "rabbit\n",
            "rhode island\n",
            "rosé\n",
            "rub\n",
            "salsa\n",
            "san francisco\n",
            "sardine\n",
            "skewer\n",
            "smoker\n",
            "sorbet\n",
            "soufflé/meringue\n",
            "sourdough\n",
            "spain\n",
            "spritzer\n",
            "st. louis\n",
            "stock\n",
            "suzanne goin\n",
            "switzerland\n",
            "taco\n",
            "tart\n",
            "tennessee\n",
            "tested & improved\n",
            "utah\n",
            "venison\n",
            "vermont\n",
            "waffle\n",
            "west virginia\n",
            "westwood\n",
            "windsor\n",
            "wisconsin\n",
            "yonkers\n",
            "yuca\n",
            "cookbooks\n",
            "leftovers\n",
            "167\n"
          ]
        }
      ]
    },
    {
      "cell_type": "code",
      "source": [
        "print(data.columns.tolist())"
      ],
      "metadata": {
        "colab": {
          "base_uri": "https://localhost:8080/"
        },
        "id": "Jx-7SVMsWahU",
        "outputId": "39b4be30-3580-4f8e-d675-b6c9829cafc0"
      },
      "execution_count": null,
      "outputs": [
        {
          "output_type": "stream",
          "name": "stdout",
          "text": [
            "['title', 'rating', 'calories', 'protein', 'fat', 'sodium', '22-minute meals', '3-ingredient recipes', 'advance prep required', 'alcoholic', 'almond', 'amaretto', 'anchovy', 'anise', 'anniversary', 'aperitif', 'appetizer', 'apple', 'apricot', 'artichoke', 'arugula', 'asian pear', 'asparagus', 'avocado', 'back to school', 'backyard bbq', 'bacon', 'bake', 'banana', 'barley', 'basil', 'bass', 'bastille day', 'bean', 'beef', 'beef rib', 'beef shank', 'beef tenderloin', 'beer', 'beet', 'bell pepper', 'berry', 'birthday', 'bitters', 'blackberry', 'blender', 'blue cheese', 'blueberry', 'boil', 'bok choy', 'bon appétit', 'bon app��tit', 'bourbon', 'braise', 'brandy', 'bread', 'breadcrumbs', 'breakfast', 'brie', 'brine', 'brisket', 'broccoli', 'broccoli rabe', 'broil', 'brown rice', 'brunch', 'brussel sprout', 'buffet', 'bulgur', 'butter', 'buttermilk', 'butternut squash', 'butterscotch/caramel', 'cabbage', 'cake', 'california', 'calvados', 'campari', 'candy', 'candy thermometer', 'cantaloupe', 'capers', 'caraway', 'cardamom', 'carrot', 'cashew', 'casserole/gratin', 'cauliflower', 'celery', 'chambord', 'champagne', 'chard', 'chartreuse', 'cheddar', 'cheese', 'cherry', 'chestnut', 'chicken', 'chickpea', 'chile', 'chile pepper', 'chill', 'chive', 'chocolate', 'christmas', 'christmas eve', 'cilantro', 'cinco de mayo', 'cinnamon', 'citrus', 'clam', 'clove', 'cocktail', 'cocktail party', 'coconut', 'cod', 'coffee', 'coffee grinder', 'cognac/armagnac', 'collard greens', 'colorado', 'condiment', 'condiment/spread', 'connecticut', 'cookie', 'cookies', 'coriander', 'corn', 'cornmeal', 'cottage cheese', 'couscous', 'crab', 'cranberry', 'cream cheese', 'créme de cacao', 'cucumber', 'cumin', 'currant', 'curry', 'dairy', 'dairy free', 'date', 'deep-fry', 'dessert', 'dill', 'dinner', 'dip', 'diwali', 'double boiler', 'dried fruit', 'drink', 'drinks', 'duck', 'easter', 'edible gift', 'egg', 'eggplant', 'endive', 'engagement party', 'escarole', 'fall', 'family reunion', 'fat free', \"father's day\", 'fennel', 'feta', 'fig', 'fish', 'flaming hot summer', 'florida', 'fontina', 'food processor', 'fortified wine', 'fourth of july', 'france', 'frangelico', 'freeze/chill', 'frozen dessert', 'fruit', 'fruit juice', 'fry', 'game', 'garlic', 'georgia', 'gin', 'ginger', 'goat cheese', 'goose', 'gouda', 'gourmet', 'graduation', 'grape', 'grapefruit', 'green bean', 'green onion/scallion', 'grill', 'grill/barbecue', 'ground beef', 'ground lamb', 'guava', 'halibut', 'halloween', 'ham', 'hanukkah', 'harpercollins', 'hazelnut', 'healthy', 'herb', 'high fiber', 'hominy/cornmeal/masa', 'honey', 'honeydew', \"hors d'oeuvre\", 'horseradish', 'hot drink', 'hot pepper', 'house & garden', 'ice cream', 'ice cream machine', 'iced tea', 'ireland', 'jalapeño', 'jam or jelly', 'jerusalem artichoke', 'jícama', 'kahlúa', 'kale', 'kentucky derby', 'kid-friendly', 'kidney friendly', 'kirsch', 'kiwi', 'kosher', 'kosher for passover', 'kumquat', 'kwanzaa', 'lamb', 'lamb chop', 'lamb shank', 'leafy green', 'leek', 'legume', 'lemon', 'lemon juice', 'lemongrass', 'lentil', 'lettuce', 'lima bean', 'lime', 'lime juice', 'liqueur', 'lobster', 'los angeles', 'low cal', 'low carb', 'low cholesterol', 'low fat', 'low sodium', 'low sugar', 'low/no sugar', 'lunar new year', 'lunch', 'macadamia nut', 'mandoline', 'mango', 'maple syrup', 'mardi gras', 'margarita', 'marinate', 'marsala', 'maryland', 'massachusetts', 'mayonnaise', 'meat', 'melon', 'michigan', 'microwave', 'milk/cream', 'minnesota', 'mint', 'missouri', 'mixer', 'molasses', 'monterey jack', \"mother's day\", 'mozzarella', 'mushroom', 'mussel', 'mustard', 'mustard greens', 'nectarine', 'new jersey', 'new mexico', \"new year's day\", \"new year's eve\", 'new york', 'no sugar added', 'no-cook', 'non-alcoholic', 'noodle', 'north carolina', 'nut', 'nutmeg', 'oat', 'oatmeal', 'ohio', 'okra', 'oktoberfest', 'olive', 'one-pot meal', 'onion', 'orange', 'orange juice', 'oregano', 'oregon', 'oscars', 'oyster', 'paleo', 'pan-fry', 'papaya', 'paprika', 'parade', 'parmesan', 'parsley', 'parsnip', 'party', 'pasadena', 'passion fruit', 'passover', 'pasta', 'pasta maker', 'pastry', 'pea', 'peach', 'peanut', 'peanut butter', 'peanut free', 'pear', 'pecan', 'pennsylvania', 'pepper', 'pernod', 'persimmon', 'pescatarian', 'phyllo/puff pastry dough', 'pickles', 'picnic', 'pie', 'pine nut', 'pineapple', 'pistachio', 'pittsburgh', 'pizza', 'plantain', 'plum', 'poach', 'poker/game night', 'pomegranate', 'poppy', 'pork', 'pork chop', 'pork rib', 'pork tenderloin', 'port', 'portland', 'potato', 'potluck', 'poultry', 'poultry sausage', 'prosciutto', 'prune', 'pumpkin', 'punch', 'purim', 'quail', 'quick & easy', 'quick and healthy', 'quince', 'quinoa', 'rack of lamb', 'radicchio', 'radish', 'raisin', 'ramadan', 'ramekin', 'raspberry', 'raw', 'red wine', 'rhubarb', 'rice', 'ricotta', 'roast', 'root vegetable', 'rosemary', 'rosh hashanah/yom kippur', 'rum', 'rutabaga', 'rye', 'saffron', 'sage', 'sake', 'salad', 'salad dressing', 'salmon', 'sandwich', 'sandwich theory', 'sangria', 'santa monica', 'sauce', 'sausage', 'sauté', 'scallop', 'scotch', 'seafood', 'seattle', 'seed', 'self', 'semolina', 'sesame', 'sesame oil', 'shallot', 'shavuot', 'shellfish', 'sherry', 'shower', 'shrimp', 'side', 'simmer', 'slow cooker', 'smoothie', 'snapper', 'soup/stew', 'sour cream', 'south carolina', 'soy', 'soy free', 'soy sauce', 'sparkling wine', 'spice', 'spinach', 'spirit', 'spring', 'squash', 'squid', \"st. patrick's day\", 'steak', 'steam', 'stew', 'stir-fry', 'strawberry', 'stuffing/dressing', 'sugar conscious', 'sugar snap pea', 'sukkot', 'summer', 'super bowl', 'sweet potato/yam', 'swiss cheese', 'swordfish', 'tailgating', 'tamarind', 'tangerine', 'tapioca', 'tarragon', 'tea', 'tequila', 'texas', 'thanksgiving', 'thyme', 'tilapia', 'tofu', 'tomatillo', 'tomato', 'tortillas', 'tree nut', 'tree nut free', 'triple sec', 'tropical fruit', 'trout', 'tuna', 'turnip', \"valentine's day\", 'vanilla', 'veal', 'vegan', 'vegetable', 'vegetarian', 'vermouth', 'vinegar', 'virginia', 'vodka', 'walnut', 'wasabi', 'washington', 'washington, d.c.', 'watercress', 'watermelon', 'wedding', 'weelicious', 'wheat/gluten-free', 'whiskey', 'white wine', 'whole wheat', 'wild rice', 'wine', 'winter', 'wok', 'yellow squash', 'yogurt', 'zucchini', 'snack', 'snack week', 'turkey']\n"
          ]
        }
      ]
    },
    {
      "cell_type": "code",
      "source": [
        "data_sorted=data.sort_values(by=['rating','calories'],ascending=[False,True])\n",
        "data_sorted.reset_index(drop=True,inplace=True)\n",
        "data_sorted.lunch.unique()"
      ],
      "metadata": {
        "id": "H0cjXPZ05rvF",
        "colab": {
          "base_uri": "https://localhost:8080/"
        },
        "outputId": "0732e8c0-694e-45ce-d1d0-788b21df2858"
      },
      "execution_count": null,
      "outputs": [
        {
          "output_type": "execute_result",
          "data": {
            "text/plain": [
              "array([0., 1.])"
            ]
          },
          "metadata": {},
          "execution_count": 29
        }
      ]
    },
    {
      "cell_type": "code",
      "source": [
        "breakfast=data[data['title'].str.contains('Breakfast')]\n",
        "breakfast.shape"
      ],
      "metadata": {
        "colab": {
          "base_uri": "https://localhost:8080/"
        },
        "id": "RpLyNexWh0OK",
        "outputId": "e1b7a246-ce82-4ef2-9261-f730bc0c7001"
      },
      "execution_count": null,
      "outputs": [
        {
          "output_type": "execute_result",
          "data": {
            "text/plain": [
              "(25, 513)"
            ]
          },
          "metadata": {},
          "execution_count": 30
        }
      ]
    },
    {
      "cell_type": "code",
      "source": [
        "lunch=data[data['lunch']==1.0]\n",
        "lunch.shape"
      ],
      "metadata": {
        "id": "Hmq68dIvKMQE",
        "colab": {
          "base_uri": "https://localhost:8080/"
        },
        "outputId": "9600c567-e714-4b13-8b28-882e961bf901"
      },
      "execution_count": null,
      "outputs": [
        {
          "output_type": "execute_result",
          "data": {
            "text/plain": [
              "(1359, 513)"
            ]
          },
          "metadata": {},
          "execution_count": 31
        }
      ]
    },
    {
      "cell_type": "code",
      "source": [
        "dinner=data[data['dinner']==1.0]\n",
        "dinner.shape"
      ],
      "metadata": {
        "id": "gW1jlQ0jKO-k",
        "colab": {
          "base_uri": "https://localhost:8080/"
        },
        "outputId": "3c5c0d37-cdd6-463c-9d70-d4b223733c12"
      },
      "execution_count": null,
      "outputs": [
        {
          "output_type": "execute_result",
          "data": {
            "text/plain": [
              "(2699, 513)"
            ]
          },
          "metadata": {},
          "execution_count": 32
        }
      ]
    },
    {
      "cell_type": "code",
      "source": [
        "print(breakfast['title'].sample())\n",
        "print(lunch['title'].sample())\n",
        "print(dinner['title'].sample())"
      ],
      "metadata": {
        "colab": {
          "base_uri": "https://localhost:8080/"
        },
        "id": "CmBl9vSViIBi",
        "outputId": "2f21c1da-fb30-4404-d003-c882a7adf5d6"
      },
      "execution_count": null,
      "outputs": [
        {
          "output_type": "stream",
          "name": "stdout",
          "text": [
            "13957    Breakfast Souffles with Sauteed Pears \n",
            "Name: title, dtype: object\n",
            "16475    New England Seafood Chowder \n",
            "Name: title, dtype: object\n",
            "11024    Roast Chicken with Potatoes and Onions \n",
            "Name: title, dtype: object\n"
          ]
        }
      ]
    },
    {
      "cell_type": "code",
      "source": [
        "veg=data[data['vegetarian']==1.0]\n",
        "veg.shape"
      ],
      "metadata": {
        "colab": {
          "base_uri": "https://localhost:8080/"
        },
        "id": "_dswy0JrjNHS",
        "outputId": "194b1044-1814-489a-b475-63989cf2edf8"
      },
      "execution_count": null,
      "outputs": [
        {
          "output_type": "execute_result",
          "data": {
            "text/plain": [
              "(6843, 513)"
            ]
          },
          "metadata": {},
          "execution_count": 34
        }
      ]
    },
    {
      "cell_type": "code",
      "source": [
        "nonveg=data[data['vegetarian']==0.0]\n",
        "nonveg.shape"
      ],
      "metadata": {
        "colab": {
          "base_uri": "https://localhost:8080/"
        },
        "id": "OT5bGjvgjrlC",
        "outputId": "9869bbe4-bd02-4faa-a9d6-44064bb78eeb"
      },
      "execution_count": null,
      "outputs": [
        {
          "output_type": "execute_result",
          "data": {
            "text/plain": [
              "(13188, 513)"
            ]
          },
          "metadata": {},
          "execution_count": 35
        }
      ]
    },
    {
      "cell_type": "code",
      "source": [
        "veg.calories.hist(bins=30)\n",
        "plt.title('veg calories')\n",
        "plt.show()"
      ],
      "metadata": {
        "colab": {
          "base_uri": "https://localhost:8080/",
          "height": 452
        },
        "id": "_iVgjWO1j1eo",
        "outputId": "b346385e-0ba8-415c-f851-c87230ea9abb"
      },
      "execution_count": null,
      "outputs": [
        {
          "output_type": "display_data",
          "data": {
            "text/plain": [
              "<Figure size 640x480 with 1 Axes>"
            ],
            "image/png": "[encoded data removed]"
          },
          "metadata": {}
        }
      ]
    },
    {
      "cell_type": "code",
      "source": [
        "nonveg.calories.hist(bins=30)\n",
        "plt.title('nonveg calories')\n",
        "plt.show()"
      ],
      "metadata": {
        "colab": {
          "base_uri": "https://localhost:8080/",
          "height": 452
        },
        "id": "Saw25JAzkPRJ",
        "outputId": "1186a27f-cf70-476c-a853-83fbc1ce4ac1"
      },
      "execution_count": null,
      "outputs": [
        {
          "output_type": "display_data",
          "data": {
            "text/plain": [
              "<Figure size 640x480 with 1 Axes>"
            ],
            "image/png": "[encoded data removed]"
          },
          "metadata": {}
        }
      ]
    },
    {
      "cell_type": "code",
      "source": [
        "  plt.hist([veg['calories'],nonveg['calories']])"
      ],
      "metadata": {
        "colab": {
          "base_uri": "https://localhost:8080/",
          "height": 551
        },
        "id": "fq4lRRWGkjrA",
        "outputId": "009c1186-f8cb-4c80-bfd7-e04c2a0dd728"
      },
      "execution_count": null,
      "outputs": [
        {
          "output_type": "execute_result",
          "data": {
            "text/plain": [
              "(array([[6.6510e+03, 1.2600e+02, 2.9000e+01, 1.0000e+01, 1.5000e+01,\n",
              "         5.0000e+00, 2.0000e+00, 2.0000e+00, 3.0000e+00, 0.0000e+00],\n",
              "        [1.1951e+04, 9.7800e+02, 1.4200e+02, 4.9000e+01, 2.1000e+01,\n",
              "         2.2000e+01, 1.0000e+01, 6.0000e+00, 4.0000e+00, 5.0000e+00]]),\n",
              " array([   0. ,  983.1, 1966.2, 2949.3, 3932.4, 4915.5, 5898.6, 6881.7,\n",
              "        7864.8, 8847.9, 9831. ]),\n",
              " <a list of 2 BarContainer objects>)"
            ]
          },
          "metadata": {},
          "execution_count": 38
        },
        {
          "output_type": "display_data",
          "data": {
            "text/plain": [
              "<Figure size 640x480 with 1 Axes>"
            ],
            "image/png": "[encoded data removed]"
          },
          "metadata": {}
        }
      ]
    },
    {
      "cell_type": "code",
      "source": [
        "data.info()"
      ],
      "metadata": {
        "colab": {
          "base_uri": "https://localhost:8080/"
        },
        "id": "POQRei1qk1Cf",
        "outputId": "d11afae1-3d61-44e9-942e-5fdc3836f875"
      },
      "execution_count": null,
      "outputs": [
        {
          "output_type": "stream",
          "name": "stdout",
          "text": [
            "<class 'pandas.core.frame.DataFrame'>\n",
            "Index: 20031 entries, 0 to 20051\n",
            "Columns: 513 entries, title to turkey\n",
            "dtypes: float64(512), object(1)\n",
            "memory usage: 78.6+ MB\n"
          ]
        }
      ]
    },
    {
      "cell_type": "code",
      "source": [
        "data = data[data['calories'] < 10000].dropna()"
      ],
      "metadata": {
        "id": "tpyzwhrU5D3O"
      },
      "execution_count": null,
      "outputs": []
    },
    {
      "cell_type": "code",
      "source": [
        "sb.set(style=\"darkgrid\")\n",
        "g = sb.regplot(x=\"calories\", y=\"dessert\", data=data, fit_reg=False)\n",
        "g.figure.set_size_inches(5, 5)\n"
      ],
      "metadata": {
        "id": "9ym76WKrDOMu",
        "colab": {
          "base_uri": "https://localhost:8080/",
          "height": 473
        },
        "outputId": "4db2c27a-8205-4a76-8440-e37098098f35"
      },
      "execution_count": null,
      "outputs": [
        {
          "output_type": "display_data",
          "data": {
            "text/plain": [
              "<Figure size 500x500 with 1 Axes>"
            ],
            "image/png": "[encoded data removed]"
          },
          "metadata": {}
        }
      ]
    },
    {
      "cell_type": "code",
      "source": [
        "data = data[:][:500]"
      ],
      "metadata": {
        "id": "E9KrZ2YtK9M7"
      },
      "execution_count": null,
      "outputs": []
    },
    {
      "cell_type": "code",
      "source": [
        "data.drop(\"title\", inplace = True, axis=1)\n",
        "\n",
        "y = data.dessert.values\n",
        "X = data.drop([\"dessert\"], axis = 1)"
      ],
      "metadata": {
        "id": "eKIQaFRYLDOC"
      },
      "execution_count": null,
      "outputs": []
    },
    {
      "cell_type": "code",
      "source": [
        "loj = LogisticRegression(solver = \"liblinear\")\n",
        "loj_model = loj.fit(X,y)\n",
        "loj_model"
      ],
      "metadata": {
        "colab": {
          "base_uri": "https://localhost:8080/",
          "height": 74
        },
        "id": "06waqz5nKjCb",
        "outputId": "21dd9b81-c118-459b-b631-2a86342ddf3a"
      },
      "execution_count": null,
      "outputs": [
        {
          "output_type": "execute_result",
          "data": {
            "text/plain": [
              "LogisticRegression(solver='liblinear')"
            ],
            "text/html": [
              "<style>#sk-container-id-1 {color: black;}#sk-container-id-1 pre{padding: 0;}#sk-container-id-1 div.sk-toggleable {background-color: white;}#sk-container-id-1 label.sk-toggleable__label {cursor: pointer;display: block;width: 100%;margin-bottom: 0;padding: 0.3em;box-sizing: border-box;text-align: center;}#sk-container-id-1 label.sk-toggleable__label-arrow:before {content: \"▸\";float: left;margin-right: 0.25em;color: #696969;}#sk-container-id-1 label.sk-toggleable__label-arrow:hover:before {color: black;}#sk-container-id-1 div.sk-estimator:hover label.sk-toggleable__label-arrow:before {color: black;}#sk-container-id-1 div.sk-toggleable__content {max-height: 0;max-width: 0;overflow: hidden;text-align: left;background-color: #f0f8ff;}#sk-container-id-1 div.sk-toggleable__content pre {margin: 0.2em;color: black;border-radius: 0.25em;background-color: #f0f8ff;}#sk-container-id-1 input.sk-toggleable__control:checked~div.sk-toggleable__content {max-height: 200px;max-width: 100%;overflow: auto;}#sk-container-id-1 input.sk-toggleable__control:checked~label.sk-toggleable__label-arrow:before {content: \"▾\";}#sk-container-id-1 div.sk-estimator input.sk-toggleable__control:checked~label.sk-toggleable__label {background-color: #d4ebff;}#sk-container-id-1 div.sk-label input.sk-toggleable__control:checked~label.sk-toggleable__label {background-color: #d4ebff;}#sk-container-id-1 input.sk-hidden--visually {border: 0;clip: rect(1px 1px 1px 1px);clip: rect(1px, 1px, 1px, 1px);height: 1px;margin: -1px;overflow: hidden;padding: 0;position: absolute;width: 1px;}#sk-container-id-1 div.sk-estimator {font-family: monospace;background-color: #f0f8ff;border: 1px dotted black;border-radius: 0.25em;box-sizing: border-box;margin-bottom: 0.5em;}#sk-container-id-1 div.sk-estimator:hover {background-color: #d4ebff;}#sk-container-id-1 div.sk-parallel-item::after {content: \"\";width: 100%;border-bottom: 1px solid gray;flex-grow: 1;}#sk-container-id-1 div.sk-label:hover label.sk-toggleable__label {background-color: #d4ebff;}#sk-container-id-1 div.sk-serial::before {content: \"\";position: absolute;border-left: 1px solid gray;box-sizing: border-box;top: 0;bottom: 0;left: 50%;z-index: 0;}#sk-container-id-1 div.sk-serial {display: flex;flex-direction: column;align-items: center;background-color: white;padding-right: 0.2em;padding-left: 0.2em;position: relative;}#sk-container-id-1 div.sk-item {position: relative;z-index: 1;}#sk-container-id-1 div.sk-parallel {display: flex;align-items: stretch;justify-content: center;background-color: white;position: relative;}#sk-container-id-1 div.sk-item::before, #sk-container-id-1 div.sk-parallel-item::before {content: \"\";position: absolute;border-left: 1px solid gray;box-sizing: border-box;top: 0;bottom: 0;left: 50%;z-index: -1;}#sk-container-id-1 div.sk-parallel-item {display: flex;flex-direction: column;z-index: 1;position: relative;background-color: white;}#sk-container-id-1 div.sk-parallel-item:first-child::after {align-self: flex-end;width: 50%;}#sk-container-id-1 div.sk-parallel-item:last-child::after {align-self: flex-start;width: 50%;}#sk-container-id-1 div.sk-parallel-item:only-child::after {width: 0;}#sk-container-id-1 div.sk-dashed-wrapped {border: 1px dashed gray;margin: 0 0.4em 0.5em 0.4em;box-sizing: border-box;padding-bottom: 0.4em;background-color: white;}#sk-container-id-1 div.sk-label label {font-family: monospace;font-weight: bold;display: inline-block;line-height: 1.2em;}#sk-container-id-1 div.sk-label-container {text-align: center;}#sk-container-id-1 div.sk-container {/* jupyter's `normalize.less` sets `[hidden] { display: none; }` but bootstrap.min.css set `[hidden] { display: none !important; }` so we also need the `!important` here to be able to override the default hidden behavior on the sphinx rendered scikit-learn.org. See: https://github.com/scikit-learn/scikit-learn/issues/21755 */display: inline-block !important;position: relative;}#sk-container-id-1 div.sk-text-repr-fallback {display: none;}</style><div id=\"sk-container-id-1\" class=\"sk-top-container\"><div class=\"sk-text-repr-fallback\"><pre>LogisticRegression(solver=&#x27;liblinear&#x27;)</pre><b>In a Jupyter environment, please rerun this cell to show the HTML representation or trust the notebook. <br />On GitHub, the HTML representation is unable to render, please try loading this page with nbviewer.org.</b></div><div class=\"sk-container\" hidden><div class=\"sk-item\"><div class=\"sk-estimator sk-toggleable\"><input class=\"sk-toggleable__control sk-hidden--visually\" id=\"sk-estimator-id-1\" type=\"checkbox\" checked><label for=\"sk-estimator-id-1\" class=\"sk-toggleable__label sk-toggleable__label-arrow\">LogisticRegression</label><div class=\"sk-toggleable__content\"><pre>LogisticRegression(solver=&#x27;liblinear&#x27;)</pre></div></div></div></div></div>"
            ]
          },
          "metadata": {},
          "execution_count": 44
        }
      ]
    },
    {
      "cell_type": "code",
      "source": [
        "loj_model.intercept_\n",
        "loj_model.coef_"
      ],
      "metadata": {
        "colab": {
          "base_uri": "https://localhost:8080/"
        },
        "id": "EPk2n0LQLrnS",
        "outputId": "46150f5c-f6e6-49cc-b98e-18cdf91ac514"
      },
      "execution_count": null,
      "outputs": [
        {
          "output_type": "execute_result",
          "data": {
            "text/plain": [
              "array([[-2.07145429e-01,  1.67041183e-03,  6.55988305e-03,\n",
              "        -4.98472740e-03, -2.78559277e-03, -1.65280779e-02,\n",
              "         0.00000000e+00, -8.80157689e-02, -3.91893684e-01,\n",
              "        -6.60455239e-01,  2.39958795e-02,  0.00000000e+00,\n",
              "        -2.57956319e-01,  1.97319929e-01, -1.43270569e-02,\n",
              "        -7.88746584e-01,  3.51083055e-01,  2.59731506e-01,\n",
              "        -2.01517975e-02, -5.83729426e-02, -1.92606071e-02,\n",
              "        -1.98812960e-01, -7.82802165e-02, -2.84779809e-01,\n",
              "        -4.82256566e-01, -1.96131905e-01,  1.36177023e+00,\n",
              "        -1.57429997e-01,  0.00000000e+00, -2.03172152e-01,\n",
              "         0.00000000e+00, -1.47797989e-02, -2.81046331e-01,\n",
              "        -2.29928162e-01, -1.26419045e-01,  0.00000000e+00,\n",
              "        -5.91538967e-02,  1.16701267e-01, -5.74145343e-02,\n",
              "        -3.38974484e-01,  8.62777050e-01,  1.53380447e-01,\n",
              "        -1.09837862e-01,  6.90809390e-01,  2.66454625e-01,\n",
              "        -9.90692760e-02,  6.20294770e-01,  1.68266597e-01,\n",
              "        -3.14488621e-02, -2.17864609e-01,  0.00000000e+00,\n",
              "         9.50659875e-02, -2.48313662e-01,  4.40035442e-02,\n",
              "        -3.51127085e-01, -3.74602670e-03, -7.79355829e-01,\n",
              "         0.00000000e+00,  0.00000000e+00, -1.34278275e-03,\n",
              "        -4.45076265e-02, -5.33713444e-03,  2.67098667e-01,\n",
              "         0.00000000e+00, -2.56166680e-01, -1.82910388e-02,\n",
              "         5.74327229e-02, -8.37756415e-03,  1.58932979e-01,\n",
              "        -1.88308542e-01, -1.85543097e-01,  9.97835323e-01,\n",
              "        -6.55128442e-02,  1.44712963e+00,  3.87483686e-02,\n",
              "         2.59755002e-02, -1.43270569e-02,  3.95448236e-01,\n",
              "         1.10428102e-01,  2.35835216e-01, -6.54848505e-02,\n",
              "         0.00000000e+00,  0.00000000e+00, -1.69890786e-01,\n",
              "         4.65319399e-03, -1.36689747e-01, -4.26409492e-02,\n",
              "        -5.23509418e-02,  0.00000000e+00, -4.69499599e-02,\n",
              "        -8.90704752e-02,  0.00000000e+00, -1.25566906e-01,\n",
              "        -3.14882820e-01,  4.11916749e-01, -9.77894745e-02,\n",
              "        -6.10138044e-01, -4.32838137e-02,  0.00000000e+00,\n",
              "        -1.54574874e-01,  2.93349907e-01, -1.17806384e-01,\n",
              "         1.44628221e+00,  1.59233316e-01, -2.16635073e-02,\n",
              "        -2.73201645e-01,  1.13020056e-01, -1.66785047e-01,\n",
              "         4.66035696e-02,  0.00000000e+00, -2.48643672e-01,\n",
              "        -2.78930217e-01, -6.44572211e-01,  4.16590035e-01,\n",
              "        -1.33998110e-01,  3.30389519e-01, -1.14542967e-02,\n",
              "         9.65818634e-02, -1.05739889e-02,  0.00000000e+00,\n",
              "         3.36162987e-01, -9.97403946e-01,  0.00000000e+00,\n",
              "        -3.33274530e-02,  6.21435963e-02, -3.49225339e-02,\n",
              "        -1.77960210e-01, -5.09922461e-01,  0.00000000e+00,\n",
              "         0.00000000e+00, -6.46833446e-02,  4.46347040e-01,\n",
              "         2.52882542e-01,  0.00000000e+00, -1.98319273e-01,\n",
              "        -1.75358943e-02,  3.19161056e-02, -9.25313679e-03,\n",
              "         1.06032918e+00,  9.66404981e-03, -2.48440121e-01,\n",
              "         2.49513182e-01, -2.90336932e-02, -1.25525920e+00,\n",
              "         0.00000000e+00,  0.00000000e+00,  1.83801581e-01,\n",
              "         2.18601479e-01, -7.35005333e-01,  0.00000000e+00,\n",
              "        -7.48817993e-02,  1.46177200e-01,  0.00000000e+00,\n",
              "         4.03673324e-01, -7.95484291e-02, -6.06408544e-02,\n",
              "        -3.03656720e-02, -8.09975887e-04, -4.61115600e-02,\n",
              "         2.25900286e-01,  6.98556286e-02, -9.72708913e-02,\n",
              "        -1.37803988e-01, -1.53639611e-01,  3.44330282e-01,\n",
              "        -3.81885651e-01,  0.00000000e+00,  1.80785027e-02,\n",
              "        -3.95378084e-02, -2.85534813e-01, -5.41532635e-04,\n",
              "        -9.47866311e-02,  0.00000000e+00,  4.90339188e-02,\n",
              "         6.33621902e-01,  3.55749409e-01,  7.83489781e-01,\n",
              "        -1.24836042e-01, -1.45572438e-01,  0.00000000e+00,\n",
              "        -3.48535112e-01,  0.00000000e+00, -8.58013857e-02,\n",
              "         6.32140930e-01, -2.86099575e-01,  0.00000000e+00,\n",
              "        -2.16300238e-02, -2.51971211e-01,  0.00000000e+00,\n",
              "         1.52065201e-01,  3.64358556e-02, -3.20024065e-02,\n",
              "        -5.61960540e-02, -2.03914126e-01, -4.29972641e-01,\n",
              "        -4.97326312e-03, -1.43885317e-02, -2.88729702e-02,\n",
              "        -9.34188644e-02,  3.01595084e-01, -8.55842653e-02,\n",
              "         5.75534721e-02, -1.89126670e-01,  1.77584363e-01,\n",
              "        -4.57666211e-01, -2.32053522e-01, -3.86685067e-02,\n",
              "        -5.00436437e-03,  1.77721790e-01,  0.00000000e+00,\n",
              "         0.00000000e+00, -1.90561011e-01,  0.00000000e+00,\n",
              "        -2.77100665e-01, -1.44746842e-01,  0.00000000e+00,\n",
              "         1.54652341e-01,  0.00000000e+00,  0.00000000e+00,\n",
              "        -3.65388521e-01,  5.35147714e-01,  0.00000000e+00,\n",
              "        -1.03837962e-02,  0.00000000e+00, -4.35494705e-03,\n",
              "        -1.44332855e-02, -3.49746001e-01,  7.88981503e-01,\n",
              "         1.79665086e-02,  0.00000000e+00,  2.71455259e-01,\n",
              "        -9.40689602e-02,  1.32372690e-02,  0.00000000e+00,\n",
              "        -1.12289488e-01, -8.45957391e-03, -2.79950046e-03,\n",
              "        -4.09660267e-01, -4.16748189e-02, -4.49279429e-03,\n",
              "         2.58547924e-01, -1.25017615e-01, -3.37377996e-02,\n",
              "        -1.28260286e-02, -5.19459700e-02,  0.00000000e+00,\n",
              "         1.42548354e-01, -6.91268969e-02, -1.70819771e-01,\n",
              "        -5.21002813e-02,  0.00000000e+00, -2.27911011e-01,\n",
              "        -1.80003991e-01, -1.63800677e-01, -7.30819633e-02,\n",
              "         5.50706508e-01, -1.81347142e-02,  1.56925275e-01,\n",
              "        -1.22885165e-02, -5.28766747e-01,  0.00000000e+00,\n",
              "         0.00000000e+00,  1.54161368e-01,  2.44157750e-01,\n",
              "        -2.43403528e-03, -1.07984771e-02, -8.86831417e-02,\n",
              "         0.00000000e+00,  0.00000000e+00, -1.21013099e-02,\n",
              "        -1.94351818e-01, -9.57134433e-02,  4.41841790e-01,\n",
              "         0.00000000e+00, -1.46135559e-02,  7.42205488e-01,\n",
              "         0.00000000e+00, -3.14448173e-01,  0.00000000e+00,\n",
              "         3.04994271e-01, -1.36814367e-01,  0.00000000e+00,\n",
              "         2.75524879e-01, -3.22070319e-02, -2.57865290e-01,\n",
              "        -4.66440070e-03, -3.01215382e-01, -1.97223025e-02,\n",
              "        -7.43612011e-03,  0.00000000e+00,  0.00000000e+00,\n",
              "         6.69625192e-02, -6.12888177e-02,  6.69635790e-02,\n",
              "        -1.19412587e+00, -4.78521004e-01, -3.43111649e-01,\n",
              "        -7.25582480e-02,  0.00000000e+00,  2.06903623e-01,\n",
              "        -5.55049428e-01, -1.97223025e-02,  0.00000000e+00,\n",
              "         0.00000000e+00,  0.00000000e+00, -9.30491050e-02,\n",
              "        -1.13457632e-01, -3.24381567e-03, -6.54589777e-01,\n",
              "        -7.38011810e-03, -5.64912794e-03, -3.26371219e-02,\n",
              "        -7.11537385e-02, -1.10143104e-01,  0.00000000e+00,\n",
              "        -2.12651110e-01, -8.81178828e-02,  2.06006574e-01,\n",
              "        -2.22936813e-02, -4.19621425e-03, -1.83893698e-01,\n",
              "        -2.32158473e-01, -2.26643247e-01,  2.11452102e-01,\n",
              "        -2.27582646e-02, -2.88729702e-02, -1.91474883e-01,\n",
              "        -4.32126834e-01,  0.00000000e+00, -1.94187551e-01,\n",
              "        -6.96944276e-02, -1.92555814e-03,  3.80775018e-01,\n",
              "         7.13924323e-01,  7.62275942e-01,  4.43502094e-01,\n",
              "         7.42176843e-01,  3.05503215e-01, -2.53320036e-01,\n",
              "        -1.32819425e-03,  0.00000000e+00,  7.38460710e-01,\n",
              "        -7.02271180e-03,  0.00000000e+00,  5.95118897e-02,\n",
              "         0.00000000e+00, -8.24263561e-02,  7.32505432e-01,\n",
              "         5.18101361e-02,  3.05503215e-01,  0.00000000e+00,\n",
              "        -4.45186224e-02,  9.29667966e-03, -3.20382368e-02,\n",
              "        -4.84087049e-02,  4.57512183e-02,  0.00000000e+00,\n",
              "        -3.68902179e-01, -7.88845262e-02,  0.00000000e+00,\n",
              "        -5.87480271e-02,  4.04247702e-01, -7.11537385e-02,\n",
              "        -4.64956036e-01, -6.12975991e-03, -2.47288259e-01,\n",
              "        -1.99080011e-03, -2.12716686e-02,  4.00852665e-02,\n",
              "        -2.34460252e-02, -2.88729702e-02,  0.00000000e+00,\n",
              "        -2.57345835e-02, -7.86963900e-01, -1.00695239e-01,\n",
              "        -4.33760730e-02, -7.34523541e-02,  0.00000000e+00,\n",
              "         0.00000000e+00, -1.71608719e-01, -3.54411572e-01,\n",
              "        -3.97735603e-02,  0.00000000e+00,  7.17128922e-01,\n",
              "         0.00000000e+00, -1.26295116e-01,  0.00000000e+00,\n",
              "        -1.34445127e-01, -2.99754574e-02, -4.11378646e-01,\n",
              "        -6.46132548e-02, -7.51280928e-02,  3.82060217e-02,\n",
              "         9.33688565e-03, -5.94203191e-03, -5.03150195e-02,\n",
              "        -1.53841243e-01, -9.83077497e-02,  0.00000000e+00,\n",
              "        -5.64891507e-01, -1.97676215e-01, -6.21742324e-02,\n",
              "        -3.64285718e-01,  0.00000000e+00,  0.00000000e+00,\n",
              "        -5.36176932e-03,  2.40718341e-01, -3.19179621e-01,\n",
              "        -5.88676718e-01,  0.00000000e+00,  0.00000000e+00,\n",
              "        -9.08828978e-02, -1.38069792e-01, -3.58077116e-01,\n",
              "        -1.66586468e-01,  0.00000000e+00, -6.18520708e-02,\n",
              "         0.00000000e+00, -1.11359528e-01,  1.90998229e-01,\n",
              "        -3.63650677e-02, -2.46379361e-02,  1.04417470e-01,\n",
              "        -1.15369437e-01, -1.65570015e+00, -9.04347485e-02,\n",
              "         0.00000000e+00, -3.09121845e-02, -6.13673555e-02,\n",
              "        -3.95907570e-01,  4.99652785e-01,  0.00000000e+00,\n",
              "        -2.44901934e-02,  4.95910648e-01, -4.72018707e-02,\n",
              "         0.00000000e+00, -5.32823190e-01, -1.33165228e-01,\n",
              "         4.99713797e-02,  9.74878311e-02, -2.70231366e-01,\n",
              "         0.00000000e+00, -1.07748435e-01, -7.66502454e-02,\n",
              "        -4.91991813e-02, -1.41654215e-02, -2.25792104e-02,\n",
              "         2.77169311e-01, -6.99100274e-02, -8.66333042e-01,\n",
              "        -1.70776308e-03,  3.82060217e-02,  3.60083629e-01,\n",
              "        -2.17689518e-01, -2.49509698e-01, -2.33536098e-01,\n",
              "        -8.15197080e-03, -3.14082640e-02,  0.00000000e+00,\n",
              "         0.00000000e+00,  0.00000000e+00, -9.13338206e-03,\n",
              "        -4.34627963e-02,  3.90030120e-02, -2.21486552e-03,\n",
              "        -6.83027994e-02, -1.13485139e-01,  0.00000000e+00,\n",
              "        -1.62491130e-02, -7.48156846e-02, -7.23667787e-01,\n",
              "        -4.04080343e-02, -6.46752758e-02,  9.49988613e-02,\n",
              "        -1.07984771e-02,  1.45896768e-01, -2.42950633e-02,\n",
              "        -6.49433179e-02, -3.54418228e-03, -2.17018564e-02,\n",
              "         9.43841858e-02, -5.35192477e-02, -1.80852058e-01,\n",
              "        -7.60637680e-01,  2.95292888e-02,  0.00000000e+00,\n",
              "        -1.30323680e-01,  0.00000000e+00,  1.15498817e-01,\n",
              "        -3.22497827e-02, -3.54030330e-02, -1.45503143e-01,\n",
              "         0.00000000e+00, -3.82847192e-02,  0.00000000e+00,\n",
              "         1.58950313e-01, -1.00702917e-02, -1.47171609e-01,\n",
              "         3.30714952e-02,  4.60489057e-02, -2.71326591e-02,\n",
              "         0.00000000e+00,  4.70715143e-02, -3.10287413e-01,\n",
              "        -6.70482039e-02, -3.33587981e-03, -2.89006781e-02,\n",
              "        -1.80024664e-01,  0.00000000e+00,  0.00000000e+00,\n",
              "        -1.14263957e-01]])"
            ]
          },
          "metadata": {},
          "execution_count": 45
        }
      ]
    },
    {
      "cell_type": "code",
      "source": [
        "y_pred = loj_model.predict(X)\n",
        "confusion_matrix(y, y_pred)"
      ],
      "metadata": {
        "colab": {
          "base_uri": "https://localhost:8080/"
        },
        "id": "FY3inOkcLyBy",
        "outputId": "2fc6d4fc-320e-4266-d9df-660a0e981192"
      },
      "execution_count": null,
      "outputs": [
        {
          "output_type": "execute_result",
          "data": {
            "text/plain": [
              "array([[414,   0],\n",
              "       [  2,  84]])"
            ]
          },
          "metadata": {},
          "execution_count": 46
        }
      ]
    },
    {
      "cell_type": "code",
      "source": [
        "accuracy_score(y, y_pred)"
      ],
      "metadata": {
        "colab": {
          "base_uri": "https://localhost:8080/"
        },
        "id": "ytK6SGhfL7v6",
        "outputId": "e324acc7-b4ef-4f20-f13f-be9e7c6dc797"
      },
      "execution_count": null,
      "outputs": [
        {
          "output_type": "execute_result",
          "data": {
            "text/plain": [
              "0.996"
            ]
          },
          "metadata": {},
          "execution_count": 47
        }
      ]
    },
    {
      "cell_type": "code",
      "source": [
        "print(classification_report(y, y_pred))"
      ],
      "metadata": {
        "colab": {
          "base_uri": "https://localhost:8080/"
        },
        "id": "HuC0X-dNMAoC",
        "outputId": "a547ff2e-ed7c-41b5-d0d7-07a37116723c"
      },
      "execution_count": null,
      "outputs": [
        {
          "output_type": "stream",
          "name": "stdout",
          "text": [
            "              precision    recall  f1-score   support\n",
            "\n",
            "         0.0       1.00      1.00      1.00       414\n",
            "         1.0       1.00      0.98      0.99        86\n",
            "\n",
            "    accuracy                           1.00       500\n",
            "   macro avg       1.00      0.99      0.99       500\n",
            "weighted avg       1.00      1.00      1.00       500\n",
            "\n"
          ]
        }
      ]
    },
    {
      "cell_type": "code",
      "source": [
        "knn=KNeighborsClassifier()\n",
        "knn_model=knn.fit(X,y)\n",
        "knn_model"
      ],
      "metadata": {
        "id": "1TO-w2uUMMtx",
        "colab": {
          "base_uri": "https://localhost:8080/",
          "height": 74
        },
        "outputId": "cf6e2499-cfec-4314-8ac5-951d60b36f33"
      },
      "execution_count": null,
      "outputs": [
        {
          "output_type": "execute_result",
          "data": {
            "text/plain": [
              "KNeighborsClassifier()"
            ],
            "text/html": [
              "<style>#sk-container-id-2 {color: black;}#sk-container-id-2 pre{padding: 0;}#sk-container-id-2 div.sk-toggleable {background-color: white;}#sk-container-id-2 label.sk-toggleable__label {cursor: pointer;display: block;width: 100%;margin-bottom: 0;padding: 0.3em;box-sizing: border-box;text-align: center;}#sk-container-id-2 label.sk-toggleable__label-arrow:before {content: \"▸\";float: left;margin-right: 0.25em;color: #696969;}#sk-container-id-2 label.sk-toggleable__label-arrow:hover:before {color: black;}#sk-container-id-2 div.sk-estimator:hover label.sk-toggleable__label-arrow:before {color: black;}#sk-container-id-2 div.sk-toggleable__content {max-height: 0;max-width: 0;overflow: hidden;text-align: left;background-color: #f0f8ff;}#sk-container-id-2 div.sk-toggleable__content pre {margin: 0.2em;color: black;border-radius: 0.25em;background-color: #f0f8ff;}#sk-container-id-2 input.sk-toggleable__control:checked~div.sk-toggleable__content {max-height: 200px;max-width: 100%;overflow: auto;}#sk-container-id-2 input.sk-toggleable__control:checked~label.sk-toggleable__label-arrow:before {content: \"▾\";}#sk-container-id-2 div.sk-estimator input.sk-toggleable__control:checked~label.sk-toggleable__label {background-color: #d4ebff;}#sk-container-id-2 div.sk-label input.sk-toggleable__control:checked~label.sk-toggleable__label {background-color: #d4ebff;}#sk-container-id-2 input.sk-hidden--visually {border: 0;clip: rect(1px 1px 1px 1px);clip: rect(1px, 1px, 1px, 1px);height: 1px;margin: -1px;overflow: hidden;padding: 0;position: absolute;width: 1px;}#sk-container-id-2 div.sk-estimator {font-family: monospace;background-color: #f0f8ff;border: 1px dotted black;border-radius: 0.25em;box-sizing: border-box;margin-bottom: 0.5em;}#sk-container-id-2 div.sk-estimator:hover {background-color: #d4ebff;}#sk-container-id-2 div.sk-parallel-item::after {content: \"\";width: 100%;border-bottom: 1px solid gray;flex-grow: 1;}#sk-container-id-2 div.sk-label:hover label.sk-toggleable__label {background-color: #d4ebff;}#sk-container-id-2 div.sk-serial::before {content: \"\";position: absolute;border-left: 1px solid gray;box-sizing: border-box;top: 0;bottom: 0;left: 50%;z-index: 0;}#sk-container-id-2 div.sk-serial {display: flex;flex-direction: column;align-items: center;background-color: white;padding-right: 0.2em;padding-left: 0.2em;position: relative;}#sk-container-id-2 div.sk-item {position: relative;z-index: 1;}#sk-container-id-2 div.sk-parallel {display: flex;align-items: stretch;justify-content: center;background-color: white;position: relative;}#sk-container-id-2 div.sk-item::before, #sk-container-id-2 div.sk-parallel-item::before {content: \"\";position: absolute;border-left: 1px solid gray;box-sizing: border-box;top: 0;bottom: 0;left: 50%;z-index: -1;}#sk-container-id-2 div.sk-parallel-item {display: flex;flex-direction: column;z-index: 1;position: relative;background-color: white;}#sk-container-id-2 div.sk-parallel-item:first-child::after {align-self: flex-end;width: 50%;}#sk-container-id-2 div.sk-parallel-item:last-child::after {align-self: flex-start;width: 50%;}#sk-container-id-2 div.sk-parallel-item:only-child::after {width: 0;}#sk-container-id-2 div.sk-dashed-wrapped {border: 1px dashed gray;margin: 0 0.4em 0.5em 0.4em;box-sizing: border-box;padding-bottom: 0.4em;background-color: white;}#sk-container-id-2 div.sk-label label {font-family: monospace;font-weight: bold;display: inline-block;line-height: 1.2em;}#sk-container-id-2 div.sk-label-container {text-align: center;}#sk-container-id-2 div.sk-container {/* jupyter's `normalize.less` sets `[hidden] { display: none; }` but bootstrap.min.css set `[hidden] { display: none !important; }` so we also need the `!important` here to be able to override the default hidden behavior on the sphinx rendered scikit-learn.org. See: https://github.com/scikit-learn/scikit-learn/issues/21755 */display: inline-block !important;position: relative;}#sk-container-id-2 div.sk-text-repr-fallback {display: none;}</style><div id=\"sk-container-id-2\" class=\"sk-top-container\"><div class=\"sk-text-repr-fallback\"><pre>KNeighborsClassifier()</pre><b>In a Jupyter environment, please rerun this cell to show the HTML representation or trust the notebook. <br />On GitHub, the HTML representation is unable to render, please try loading this page with nbviewer.org.</b></div><div class=\"sk-container\" hidden><div class=\"sk-item\"><div class=\"sk-estimator sk-toggleable\"><input class=\"sk-toggleable__control sk-hidden--visually\" id=\"sk-estimator-id-2\" type=\"checkbox\" checked><label for=\"sk-estimator-id-2\" class=\"sk-toggleable__label sk-toggleable__label-arrow\">KNeighborsClassifier</label><div class=\"sk-toggleable__content\"><pre>KNeighborsClassifier()</pre></div></div></div></div></div>"
            ]
          },
          "metadata": {},
          "execution_count": 49
        }
      ]
    },
    {
      "cell_type": "code",
      "source": [
        "y_pred=knn_model.predict(X)\n",
        "accuracy_score(y,y_pred)"
      ],
      "metadata": {
        "colab": {
          "base_uri": "https://localhost:8080/"
        },
        "id": "AF2BU6ZISnZd",
        "outputId": "74a75b91-0aa4-4451-8091-0acc849d0d46"
      },
      "execution_count": null,
      "outputs": [
        {
          "output_type": "execute_result",
          "data": {
            "text/plain": [
              "0.88"
            ]
          },
          "metadata": {},
          "execution_count": 50
        }
      ]
    },
    {
      "cell_type": "code",
      "source": [
        "print(classification_report(y,y_pred))"
      ],
      "metadata": {
        "colab": {
          "base_uri": "https://localhost:8080/"
        },
        "id": "_nwSSLxoS4iK",
        "outputId": "743191c1-9395-47de-f6ec-e645a00da30f"
      },
      "execution_count": null,
      "outputs": [
        {
          "output_type": "stream",
          "name": "stdout",
          "text": [
            "              precision    recall  f1-score   support\n",
            "\n",
            "         0.0       0.89      0.97      0.93       414\n",
            "         1.0       0.77      0.43      0.55        86\n",
            "\n",
            "    accuracy                           0.88       500\n",
            "   macro avg       0.83      0.70      0.74       500\n",
            "weighted avg       0.87      0.88      0.87       500\n",
            "\n"
          ]
        }
      ]
    },
    {
      "cell_type": "code",
      "source": [
        "knn_params={\"n_neighbors\":np.arange(1,50)}\n",
        "knn=KNeighborsClassifier()\n",
        "knn_cv=GridSearchCV(knn,knn_params,cv=10)\n",
        "knn_cv.fit(X,y)"
      ],
      "metadata": {
        "colab": {
          "base_uri": "https://localhost:8080/",
          "height": 116
        },
        "id": "a39pd9d4TI1k",
        "outputId": "02fd7731-37e9-43f9-b7fa-ffaf5ec80775"
      },
      "execution_count": null,
      "outputs": [
        {
          "output_type": "execute_result",
          "data": {
            "text/plain": [
              "GridSearchCV(cv=10, estimator=KNeighborsClassifier(),\n",
              "             param_grid={'n_neighbors': array([ 1,  2,  3,  4,  5,  6,  7,  8,  9, 10, 11, 12, 13, 14, 15, 16, 17,\n",
              "       18, 19, 20, 21, 22, 23, 24, 25, 26, 27, 28, 29, 30, 31, 32, 33, 34,\n",
              "       35, 36, 37, 38, 39, 40, 41, 42, 43, 44, 45, 46, 47, 48, 49])})"
            ],
            "text/html": [
              "<style>#sk-container-id-3 {color: black;}#sk-container-id-3 pre{padding: 0;}#sk-container-id-3 div.sk-toggleable {background-color: white;}#sk-container-id-3 label.sk-toggleable__label {cursor: pointer;display: block;width: 100%;margin-bottom: 0;padding: 0.3em;box-sizing: border-box;text-align: center;}#sk-container-id-3 label.sk-toggleable__label-arrow:before {content: \"▸\";float: left;margin-right: 0.25em;color: #696969;}#sk-container-id-3 label.sk-toggleable__label-arrow:hover:before {color: black;}#sk-container-id-3 div.sk-estimator:hover label.sk-toggleable__label-arrow:before {color: black;}#sk-container-id-3 div.sk-toggleable__content {max-height: 0;max-width: 0;overflow: hidden;text-align: left;background-color: #f0f8ff;}#sk-container-id-3 div.sk-toggleable__content pre {margin: 0.2em;color: black;border-radius: 0.25em;background-color: #f0f8ff;}#sk-container-id-3 input.sk-toggleable__control:checked~div.sk-toggleable__content {max-height: 200px;max-width: 100%;overflow: auto;}#sk-container-id-3 input.sk-toggleable__control:checked~label.sk-toggleable__label-arrow:before {content: \"▾\";}#sk-container-id-3 div.sk-estimator input.sk-toggleable__control:checked~label.sk-toggleable__label {background-color: #d4ebff;}#sk-container-id-3 div.sk-label input.sk-toggleable__control:checked~label.sk-toggleable__label {background-color: #d4ebff;}#sk-container-id-3 input.sk-hidden--visually {border: 0;clip: rect(1px 1px 1px 1px);clip: rect(1px, 1px, 1px, 1px);height: 1px;margin: -1px;overflow: hidden;padding: 0;position: absolute;width: 1px;}#sk-container-id-3 div.sk-estimator {font-family: monospace;background-color: #f0f8ff;border: 1px dotted black;border-radius: 0.25em;box-sizing: border-box;margin-bottom: 0.5em;}#sk-container-id-3 div.sk-estimator:hover {background-color: #d4ebff;}#sk-container-id-3 div.sk-parallel-item::after {content: \"\";width: 100%;border-bottom: 1px solid gray;flex-grow: 1;}#sk-container-id-3 div.sk-label:hover label.sk-toggleable__label {background-color: #d4ebff;}#sk-container-id-3 div.sk-serial::before {content: \"\";position: absolute;border-left: 1px solid gray;box-sizing: border-box;top: 0;bottom: 0;left: 50%;z-index: 0;}#sk-container-id-3 div.sk-serial {display: flex;flex-direction: column;align-items: center;background-color: white;padding-right: 0.2em;padding-left: 0.2em;position: relative;}#sk-container-id-3 div.sk-item {position: relative;z-index: 1;}#sk-container-id-3 div.sk-parallel {display: flex;align-items: stretch;justify-content: center;background-color: white;position: relative;}#sk-container-id-3 div.sk-item::before, #sk-container-id-3 div.sk-parallel-item::before {content: \"\";position: absolute;border-left: 1px solid gray;box-sizing: border-box;top: 0;bottom: 0;left: 50%;z-index: -1;}#sk-container-id-3 div.sk-parallel-item {display: flex;flex-direction: column;z-index: 1;position: relative;background-color: white;}#sk-container-id-3 div.sk-parallel-item:first-child::after {align-self: flex-end;width: 50%;}#sk-container-id-3 div.sk-parallel-item:last-child::after {align-self: flex-start;width: 50%;}#sk-container-id-3 div.sk-parallel-item:only-child::after {width: 0;}#sk-container-id-3 div.sk-dashed-wrapped {border: 1px dashed gray;margin: 0 0.4em 0.5em 0.4em;box-sizing: border-box;padding-bottom: 0.4em;background-color: white;}#sk-container-id-3 div.sk-label label {font-family: monospace;font-weight: bold;display: inline-block;line-height: 1.2em;}#sk-container-id-3 div.sk-label-container {text-align: center;}#sk-container-id-3 div.sk-container {/* jupyter's `normalize.less` sets `[hidden] { display: none; }` but bootstrap.min.css set `[hidden] { display: none !important; }` so we also need the `!important` here to be able to override the default hidden behavior on the sphinx rendered scikit-learn.org. See: https://github.com/scikit-learn/scikit-learn/issues/21755 */display: inline-block !important;position: relative;}#sk-container-id-3 div.sk-text-repr-fallback {display: none;}</style><div id=\"sk-container-id-3\" class=\"sk-top-container\"><div class=\"sk-text-repr-fallback\"><pre>GridSearchCV(cv=10, estimator=KNeighborsClassifier(),\n",
              "             param_grid={&#x27;n_neighbors&#x27;: array([ 1,  2,  3,  4,  5,  6,  7,  8,  9, 10, 11, 12, 13, 14, 15, 16, 17,\n",
              "       18, 19, 20, 21, 22, 23, 24, 25, 26, 27, 28, 29, 30, 31, 32, 33, 34,\n",
              "       35, 36, 37, 38, 39, 40, 41, 42, 43, 44, 45, 46, 47, 48, 49])})</pre><b>In a Jupyter environment, please rerun this cell to show the HTML representation or trust the notebook. <br />On GitHub, the HTML representation is unable to render, please try loading this page with nbviewer.org.</b></div><div class=\"sk-container\" hidden><div class=\"sk-item sk-dashed-wrapped\"><div class=\"sk-label-container\"><div class=\"sk-label sk-toggleable\"><input class=\"sk-toggleable__control sk-hidden--visually\" id=\"sk-estimator-id-3\" type=\"checkbox\" ><label for=\"sk-estimator-id-3\" class=\"sk-toggleable__label sk-toggleable__label-arrow\">GridSearchCV</label><div class=\"sk-toggleable__content\"><pre>GridSearchCV(cv=10, estimator=KNeighborsClassifier(),\n",
              "             param_grid={&#x27;n_neighbors&#x27;: array([ 1,  2,  3,  4,  5,  6,  7,  8,  9, 10, 11, 12, 13, 14, 15, 16, 17,\n",
              "       18, 19, 20, 21, 22, 23, 24, 25, 26, 27, 28, 29, 30, 31, 32, 33, 34,\n",
              "       35, 36, 37, 38, 39, 40, 41, 42, 43, 44, 45, 46, 47, 48, 49])})</pre></div></div></div><div class=\"sk-parallel\"><div class=\"sk-parallel-item\"><div class=\"sk-item\"><div class=\"sk-label-container\"><div class=\"sk-label sk-toggleable\"><input class=\"sk-toggleable__control sk-hidden--visually\" id=\"sk-estimator-id-4\" type=\"checkbox\" ><label for=\"sk-estimator-id-4\" class=\"sk-toggleable__label sk-toggleable__label-arrow\">estimator: KNeighborsClassifier</label><div class=\"sk-toggleable__content\"><pre>KNeighborsClassifier()</pre></div></div></div><div class=\"sk-serial\"><div class=\"sk-item\"><div class=\"sk-estimator sk-toggleable\"><input class=\"sk-toggleable__control sk-hidden--visually\" id=\"sk-estimator-id-5\" type=\"checkbox\" ><label for=\"sk-estimator-id-5\" class=\"sk-toggleable__label sk-toggleable__label-arrow\">KNeighborsClassifier</label><div class=\"sk-toggleable__content\"><pre>KNeighborsClassifier()</pre></div></div></div></div></div></div></div></div></div></div>"
            ]
          },
          "metadata": {},
          "execution_count": 52
        }
      ]
    },
    {
      "cell_type": "code",
      "source": [
        "print(\"Best score:\"+str(knn_cv.best_score_))\n",
        "print(\"Best parameters:\"+str(knn_cv.best_params_))"
      ],
      "metadata": {
        "colab": {
          "base_uri": "https://localhost:8080/"
        },
        "id": "vFV_ZUA9TfHU",
        "outputId": "b97059b1-5719-4b7f-dfb5-6afcd35a59c6"
      },
      "execution_count": null,
      "outputs": [
        {
          "output_type": "stream",
          "name": "stdout",
          "text": [
            "Best score:0.8320000000000001\n",
            "Best parameters:{'n_neighbors': 4}\n"
          ]
        }
      ]
    },
    {
      "cell_type": "code",
      "source": [
        "knn=KNeighborsClassifier(11)\n",
        "knn_tuned=knn.fit(X,y)\n",
        "knn_tuned.score(X,y)\n"
      ],
      "metadata": {
        "colab": {
          "base_uri": "https://localhost:8080/"
        },
        "id": "VbMxoVMYTpzw",
        "outputId": "1d996b73-9893-42b0-9109-60c9d05f2b00"
      },
      "execution_count": null,
      "outputs": [
        {
          "output_type": "execute_result",
          "data": {
            "text/plain": [
              "0.844"
            ]
          },
          "metadata": {},
          "execution_count": 54
        }
      ]
    },
    {
      "cell_type": "code",
      "source": [
        "svm_model = SVC(kernel = \"linear\").fit(X, y)\n",
        "svm_model\n"
      ],
      "metadata": {
        "colab": {
          "base_uri": "https://localhost:8080/",
          "height": 74
        },
        "id": "-W9beRJHVGqo",
        "outputId": "740c3ceb-78ce-4df7-8f94-bfffad6b1f1e"
      },
      "execution_count": null,
      "outputs": [
        {
          "output_type": "execute_result",
          "data": {
            "text/plain": [
              "SVC(kernel='linear')"
            ],
            "text/html": [
              "<style>#sk-container-id-4 {color: black;}#sk-container-id-4 pre{padding: 0;}#sk-container-id-4 div.sk-toggleable {background-color: white;}#sk-container-id-4 label.sk-toggleable__label {cursor: pointer;display: block;width: 100%;margin-bottom: 0;padding: 0.3em;box-sizing: border-box;text-align: center;}#sk-container-id-4 label.sk-toggleable__label-arrow:before {content: \"▸\";float: left;margin-right: 0.25em;color: #696969;}#sk-container-id-4 label.sk-toggleable__label-arrow:hover:before {color: black;}#sk-container-id-4 div.sk-estimator:hover label.sk-toggleable__label-arrow:before {color: black;}#sk-container-id-4 div.sk-toggleable__content {max-height: 0;max-width: 0;overflow: hidden;text-align: left;background-color: #f0f8ff;}#sk-container-id-4 div.sk-toggleable__content pre {margin: 0.2em;color: black;border-radius: 0.25em;background-color: #f0f8ff;}#sk-container-id-4 input.sk-toggleable__control:checked~div.sk-toggleable__content {max-height: 200px;max-width: 100%;overflow: auto;}#sk-container-id-4 input.sk-toggleable__control:checked~label.sk-toggleable__label-arrow:before {content: \"▾\";}#sk-container-id-4 div.sk-estimator input.sk-toggleable__control:checked~label.sk-toggleable__label {background-color: #d4ebff;}#sk-container-id-4 div.sk-label input.sk-toggleable__control:checked~label.sk-toggleable__label {background-color: #d4ebff;}#sk-container-id-4 input.sk-hidden--visually {border: 0;clip: rect(1px 1px 1px 1px);clip: rect(1px, 1px, 1px, 1px);height: 1px;margin: -1px;overflow: hidden;padding: 0;position: absolute;width: 1px;}#sk-container-id-4 div.sk-estimator {font-family: monospace;background-color: #f0f8ff;border: 1px dotted black;border-radius: 0.25em;box-sizing: border-box;margin-bottom: 0.5em;}#sk-container-id-4 div.sk-estimator:hover {background-color: #d4ebff;}#sk-container-id-4 div.sk-parallel-item::after {content: \"\";width: 100%;border-bottom: 1px solid gray;flex-grow: 1;}#sk-container-id-4 div.sk-label:hover label.sk-toggleable__label {background-color: #d4ebff;}#sk-container-id-4 div.sk-serial::before {content: \"\";position: absolute;border-left: 1px solid gray;box-sizing: border-box;top: 0;bottom: 0;left: 50%;z-index: 0;}#sk-container-id-4 div.sk-serial {display: flex;flex-direction: column;align-items: center;background-color: white;padding-right: 0.2em;padding-left: 0.2em;position: relative;}#sk-container-id-4 div.sk-item {position: relative;z-index: 1;}#sk-container-id-4 div.sk-parallel {display: flex;align-items: stretch;justify-content: center;background-color: white;position: relative;}#sk-container-id-4 div.sk-item::before, #sk-container-id-4 div.sk-parallel-item::before {content: \"\";position: absolute;border-left: 1px solid gray;box-sizing: border-box;top: 0;bottom: 0;left: 50%;z-index: -1;}#sk-container-id-4 div.sk-parallel-item {display: flex;flex-direction: column;z-index: 1;position: relative;background-color: white;}#sk-container-id-4 div.sk-parallel-item:first-child::after {align-self: flex-end;width: 50%;}#sk-container-id-4 div.sk-parallel-item:last-child::after {align-self: flex-start;width: 50%;}#sk-container-id-4 div.sk-parallel-item:only-child::after {width: 0;}#sk-container-id-4 div.sk-dashed-wrapped {border: 1px dashed gray;margin: 0 0.4em 0.5em 0.4em;box-sizing: border-box;padding-bottom: 0.4em;background-color: white;}#sk-container-id-4 div.sk-label label {font-family: monospace;font-weight: bold;display: inline-block;line-height: 1.2em;}#sk-container-id-4 div.sk-label-container {text-align: center;}#sk-container-id-4 div.sk-container {/* jupyter's `normalize.less` sets `[hidden] { display: none; }` but bootstrap.min.css set `[hidden] { display: none !important; }` so we also need the `!important` here to be able to override the default hidden behavior on the sphinx rendered scikit-learn.org. See: https://github.com/scikit-learn/scikit-learn/issues/21755 */display: inline-block !important;position: relative;}#sk-container-id-4 div.sk-text-repr-fallback {display: none;}</style><div id=\"sk-container-id-4\" class=\"sk-top-container\"><div class=\"sk-text-repr-fallback\"><pre>SVC(kernel=&#x27;linear&#x27;)</pre><b>In a Jupyter environment, please rerun this cell to show the HTML representation or trust the notebook. <br />On GitHub, the HTML representation is unable to render, please try loading this page with nbviewer.org.</b></div><div class=\"sk-container\" hidden><div class=\"sk-item\"><div class=\"sk-estimator sk-toggleable\"><input class=\"sk-toggleable__control sk-hidden--visually\" id=\"sk-estimator-id-6\" type=\"checkbox\" checked><label for=\"sk-estimator-id-6\" class=\"sk-toggleable__label sk-toggleable__label-arrow\">SVC</label><div class=\"sk-toggleable__content\"><pre>SVC(kernel=&#x27;linear&#x27;)</pre></div></div></div></div></div>"
            ]
          },
          "metadata": {},
          "execution_count": 55
        }
      ]
    },
    {
      "cell_type": "code",
      "source": [
        "y_pred=svm_model.predict(X)\n",
        "accuracy_score(y,y_pred)"
      ],
      "metadata": {
        "colab": {
          "base_uri": "https://localhost:8080/"
        },
        "id": "tzY_Mc7QVYDB",
        "outputId": "e10afe6c-e1cf-4d6b-98cc-b55d04f41a95"
      },
      "execution_count": null,
      "outputs": [
        {
          "output_type": "execute_result",
          "data": {
            "text/plain": [
              "1.0"
            ]
          },
          "metadata": {},
          "execution_count": 56
        }
      ]
    },
    {
      "cell_type": "code",
      "source": [
        "print(classification_report(y,y_pred))"
      ],
      "metadata": {
        "colab": {
          "base_uri": "https://localhost:8080/"
        },
        "id": "PAhr_fB1Vjew",
        "outputId": "dc753c34-e4b8-47c7-da36-bf6917253b71"
      },
      "execution_count": null,
      "outputs": [
        {
          "output_type": "stream",
          "name": "stdout",
          "text": [
            "              precision    recall  f1-score   support\n",
            "\n",
            "         0.0       1.00      1.00      1.00       414\n",
            "         1.0       1.00      1.00      1.00        86\n",
            "\n",
            "    accuracy                           1.00       500\n",
            "   macro avg       1.00      1.00      1.00       500\n",
            "weighted avg       1.00      1.00      1.00       500\n",
            "\n"
          ]
        }
      ]
    },
    {
      "cell_type": "code",
      "source": [
        "nb = GaussianNB()\n",
        "nb_model = nb.fit(X, y)\n",
        "nb_model\n",
        "y_pred = nb_model.predict(X)\n",
        "accuracy_score(y, y_pred)"
      ],
      "metadata": {
        "colab": {
          "base_uri": "https://localhost:8080/"
        },
        "id": "RJLw0pSVVqef",
        "outputId": "5fbcf856-4cb2-4cc7-ec9a-6a7b21531653"
      },
      "execution_count": null,
      "outputs": [
        {
          "output_type": "execute_result",
          "data": {
            "text/plain": [
              "0.97"
            ]
          },
          "metadata": {},
          "execution_count": 58
        }
      ]
    },
    {
      "cell_type": "code",
      "source": [
        "print(classification_report(y, y_pred))"
      ],
      "metadata": {
        "colab": {
          "base_uri": "https://localhost:8080/"
        },
        "id": "9vZHIRBLWhMm",
        "outputId": "57056e3f-a9cf-4bac-e5c0-a682e0312412"
      },
      "execution_count": null,
      "outputs": [
        {
          "output_type": "stream",
          "name": "stdout",
          "text": [
            "              precision    recall  f1-score   support\n",
            "\n",
            "         0.0       1.00      0.96      0.98       414\n",
            "         1.0       0.85      1.00      0.92        86\n",
            "\n",
            "    accuracy                           0.97       500\n",
            "   macro avg       0.93      0.98      0.95       500\n",
            "weighted avg       0.97      0.97      0.97       500\n",
            "\n"
          ]
        }
      ]
    },
    {
      "cell_type": "code",
      "source": [
        "nb_params = {'var_smoothing': np.logspace(0,-9, num=100)}\n",
        "nb = GaussianNB()\n",
        "nb_cv = GridSearchCV(nb, nb_params, cv=10)\n",
        "nb_cv.fit(X, y)\n",
        "print(\"Best score:\", nb_cv.best_score_)\n",
        "print(\"Best parameters:\", nb_cv.best_params_)\n",
        "nb_tuned = GaussianNB(**nb_cv.best_params_)\n",
        "nb_tuned.fit(X, y)\n",
        "print(\"Tuned model score:\", nb_tuned.score(X, y))\n"
      ],
      "metadata": {
        "colab": {
          "base_uri": "https://localhost:8080/"
        },
        "id": "4CufKUNzcnS8",
        "outputId": "08595e47-a8b1-4574-93e5-19965ad95f3a"
      },
      "execution_count": null,
      "outputs": [
        {
          "output_type": "stream",
          "name": "stdout",
          "text": [
            "Best score: 0.916\n",
            "Best parameters: {'var_smoothing': 2.310129700083158e-09}\n",
            "Tuned model score: 0.964\n"
          ]
        }
      ]
    },
    {
      "cell_type": "code",
      "source": [
        "rf_model = RandomForestClassifier().fit(X, y)\n",
        "rf_model\n",
        "y_pred = rf_model.predict(X)\n",
        "accuracy_score(y, y_pred)"
      ],
      "metadata": {
        "colab": {
          "base_uri": "https://localhost:8080/"
        },
        "id": "J8BxIGVxWrvG",
        "outputId": "dc8c355b-7da4-4703-f3e0-466fb21dc855"
      },
      "execution_count": null,
      "outputs": [
        {
          "output_type": "execute_result",
          "data": {
            "text/plain": [
              "1.0"
            ]
          },
          "metadata": {},
          "execution_count": 61
        }
      ]
    },
    {
      "cell_type": "code",
      "source": [
        "print(classification_report(y, y_pred))"
      ],
      "metadata": {
        "colab": {
          "base_uri": "https://localhost:8080/"
        },
        "id": "2UBaFfBCXNIF",
        "outputId": "fb994ddd-8138-4718-eec7-66e6bb5a72d2"
      },
      "execution_count": null,
      "outputs": [
        {
          "output_type": "stream",
          "name": "stdout",
          "text": [
            "              precision    recall  f1-score   support\n",
            "\n",
            "         0.0       1.00      1.00      1.00       414\n",
            "         1.0       1.00      1.00      1.00        86\n",
            "\n",
            "    accuracy                           1.00       500\n",
            "   macro avg       1.00      1.00      1.00       500\n",
            "weighted avg       1.00      1.00      1.00       500\n",
            "\n"
          ]
        }
      ]
    },
    {
      "cell_type": "code",
      "source": [
        "rf_params = {\"max_depth\": [2,5,8,10],\n",
        "              \"max_features\": [2,5,8],\n",
        "              \"n_estimators\": [10,50,100],\n",
        "              \"min_samples_split\": [2,5,10]}\n",
        "\n",
        "rf_model = RandomForestClassifier()\n",
        "rf_cv = GridSearchCV(rf_model, rf_params, cv=10, n_jobs=-1, verbose=2)\n",
        "rf_cv.fit(X, y)\n",
        "print(\"Best score:\", rf_cv.best_score_)\n",
        "print(\"Best parameters:\", rf_cv.best_params_)\n",
        "rf_tuned = RandomForestClassifier(**rf_cv.best_params_)\n",
        "rf_tuned.fit(X, y)\n",
        "print(\"Tuned model score:\", rf_tuned.score(X, y))"
      ],
      "metadata": {
        "colab": {
          "base_uri": "https://localhost:8080/"
        },
        "id": "05i2dNX0zN4g",
        "outputId": "a71084e9-27ec-405f-acb0-b3a1d7838bfa"
      },
      "execution_count": null,
      "outputs": [
        {
          "output_type": "stream",
          "name": "stdout",
          "text": [
            "Fitting 10 folds for each of 108 candidates, totalling 1080 fits\n",
            "Best score: 0.874\n",
            "Best parameters: {'max_depth': 10, 'max_features': 8, 'min_samples_split': 2, 'n_estimators': 10}\n",
            "Tuned model score: 0.904\n"
          ]
        }
      ]
    },
    {
      "cell_type": "code",
      "source": [
        "ada_model = AdaBoostClassifier()\n",
        "ada_model.fit(X,y)\n",
        "ada_model\n",
        "y_pred = ada_model.predict(X)\n",
        "accuracy_score(y, y_pred)"
      ],
      "metadata": {
        "colab": {
          "base_uri": "https://localhost:8080/"
        },
        "id": "ubQEk5NRXSPV",
        "outputId": "adf4d9bb-8452-4f26-cf00-11d98a9979ed"
      },
      "execution_count": null,
      "outputs": [
        {
          "output_type": "execute_result",
          "data": {
            "text/plain": [
              "1.0"
            ]
          },
          "metadata": {},
          "execution_count": 81
        }
      ]
    },
    {
      "cell_type": "code",
      "source": [
        "print(classification_report(y, y_pred))"
      ],
      "metadata": {
        "colab": {
          "base_uri": "https://localhost:8080/"
        },
        "id": "mMz7aVJgYQf8",
        "outputId": "2d5b6095-4df5-400a-e045-2b6aefd4e7e4"
      },
      "execution_count": null,
      "outputs": [
        {
          "output_type": "stream",
          "name": "stdout",
          "text": [
            "              precision    recall  f1-score   support\n",
            "\n",
            "         0.0       1.00      1.00      1.00       414\n",
            "         1.0       1.00      1.00      1.00        86\n",
            "\n",
            "    accuracy                           1.00       500\n",
            "   macro avg       1.00      1.00      1.00       500\n",
            "weighted avg       1.00      1.00      1.00       500\n",
            "\n"
          ]
        }
      ]
    },
    {
      "cell_type": "code",
      "source": [
        "ada_params = {\"n_estimators\": [50, 100, 200],\n",
        "              \"learning_rate\": [0.1, 0.5, 1]}\n",
        "\n",
        "ada_model = AdaBoostClassifier()\n",
        "ada_cv = GridSearchCV(ada_model, ada_params, cv=10, n_jobs=-1, verbose=2)\n",
        "ada_cv.fit(X, y)\n",
        "print(\"Best score:\", ada_cv.best_score_)\n",
        "print(\"Best parameters:\", ada_cv.best_params_)\n",
        "ada_tuned = AdaBoostClassifier(**ada_cv.best_params_)\n",
        "ada_tuned.fit(X, y)\n",
        "print(\"Tuned model score:\", ada_tuned.score(X, y))\n"
      ],
      "metadata": {
        "colab": {
          "base_uri": "https://localhost:8080/"
        },
        "id": "Ur5spvASzWd0",
        "outputId": "df263e2a-c00e-4106-d7d3-f844465e8b52"
      },
      "execution_count": null,
      "outputs": [
        {
          "output_type": "stream",
          "name": "stdout",
          "text": [
            "Fitting 10 folds for each of 9 candidates, totalling 90 fits\n",
            "Best score: 0.958\n",
            "Best parameters: {'learning_rate': 0.1, 'n_estimators': 200}\n",
            "Tuned model score: 0.992\n"
          ]
        }
      ]
    },
    {
      "cell_type": "code",
      "source": [
        "from sklearn import tree\n",
        "dtc = tree.DecisionTreeClassifier()\n",
        "dtc_model = dtc.fit(X,y)\n",
        "dtc_model\n",
        "y_pred = dtc_model.predict(X)\n",
        "accuracy_score(y, y_pred)\n",
        "print(classification_report(y, y_pred))"
      ],
      "metadata": {
        "id": "gH5jGRe1YR20",
        "colab": {
          "base_uri": "https://localhost:8080/"
        },
        "outputId": "97fb1086-a56b-4845-ba89-729c0eba3289"
      },
      "execution_count": null,
      "outputs": [
        {
          "output_type": "stream",
          "name": "stdout",
          "text": [
            "              precision    recall  f1-score   support\n",
            "\n",
            "         0.0       1.00      1.00      1.00       414\n",
            "         1.0       1.00      1.00      1.00        86\n",
            "\n",
            "    accuracy                           1.00       500\n",
            "   macro avg       1.00      1.00      1.00       500\n",
            "weighted avg       1.00      1.00      1.00       500\n",
            "\n"
          ]
        }
      ]
    },
    {
      "cell_type": "code",
      "source": [
        "from sklearn import tree\n",
        "plt.figure(figsize=(12,8))\n",
        "tree.plot_tree(dtc_model,\n",
        "              feature_names=X.columns,\n",
        "              class_names=['No', 'Yes'],\n",
        "              filled=True);\n"
      ],
      "metadata": {
        "colab": {
          "base_uri": "https://localhost:8080/",
          "height": 590
        },
        "id": "6KcAfc5iYy2z",
        "outputId": "ec0177a0-9bef-481a-96e4-a30235141f71"
      },
      "execution_count": null,
      "outputs": [
        {
          "output_type": "display_data",
          "data": {
            "text/plain": [
              "<Figure size 1200x800 with 1 Axes>"
            ],
            "image/png": "[encoded data removed]"
          },
          "metadata": {}
        }
      ]
    },
    {
      "cell_type": "code",
      "source": [
        "from sklearn.model_selection import GridSearchCV\n",
        "param_grid = {\n",
        "    'criterion': ['gini', 'entropy'],\n",
        "    'max_depth': [None, 5, 10, 15, 20],\n",
        "    'min_samples_split': [2, 5, 10],\n",
        "    'min_samples_leaf': [1, 2, 4]\n",
        "}\n",
        "dtc = tree.DecisionTreeClassifier()\n",
        "grid_search = GridSearchCV(estimator=dtc, param_grid=param_grid, cv=10)\n",
        "grid_search.fit(X, y)\n",
        "print(\"Best score:\", grid_search.best_score_)\n",
        "print(\"Best parameters:\", grid_search.best_params_)\n",
        "dtc_tuned = tree.DecisionTreeClassifier(**grid_search.best_params_)\n",
        "dtc_tuned.fit(X, y)\n",
        "print(\"Tuned model score:\", dtc_tuned.score(X, y))\n"
      ],
      "metadata": {
        "colab": {
          "base_uri": "https://localhost:8080/"
        },
        "id": "WthgM7Gsb3oW",
        "outputId": "648fc1b9-3348-4f56-e9e8-5f341db97363"
      },
      "execution_count": null,
      "outputs": [
        {
          "output_type": "stream",
          "name": "stdout",
          "text": [
            "Best score: 0.9179999999999999\n",
            "Best parameters: {'criterion': 'entropy', 'max_depth': 10, 'min_samples_leaf': 1, 'min_samples_split': 10}\n",
            "Tuned model score: 0.982\n"
          ]
        }
      ]
    },
    {
      "cell_type": "code",
      "source": [
        "import matplotlib.pyplot as plt\n",
        "models = ['Logistic Regression', 'KNN', 'SVM', 'Naive Bayes', 'Random Forest', 'AdaBoost', 'Decision Tree']\n",
        "scores = [loj_model.score(X, y), knn_tuned.score(X, y), svm_model.score(X, y), nb_tuned.score(X, y), rf_tuned.score(X, y), ada_model.score(X, y), dtc_tuned.score(X, y)]\n",
        "\n",
        "plt.figure(figsize=(10, 6))\n",
        "plt.bar(models, scores, color=['red', 'green', 'blue', 'cyan', 'magenta', 'yellow', 'orange'])\n",
        "plt.xlabel('Models')\n",
        "plt.ylabel('Accuracy Score')\n",
        "plt.title('Comparison of Different Models')\n",
        "plt.xticks(rotation=45)\n",
        "plt.show()\n"
      ],
      "metadata": {
        "colab": {
          "base_uri": "https://localhost:8080/",
          "height": 672
        },
        "id": "bLG6w3c8vA2j",
        "outputId": "80e9bd9d-cb8f-45a1-c0e5-b98160a9804a"
      },
      "execution_count": null,
      "outputs": [
        {
          "output_type": "display_data",
          "data": {
            "text/plain": [
              "<Figure size 1000x600 with 1 Axes>"
            ],
            "image/png": "[encoded data removed]"
          },
          "metadata": {}
        }
      ]
    },
    {
      "cell_type": "code",
      "source": [],
      "metadata": {
        "id": "gYJ7BcGw1J8l"
      },
      "execution_count": null,
      "outputs": []
    }
  ]
}